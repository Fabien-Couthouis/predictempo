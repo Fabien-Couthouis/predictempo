{
 "cells": [
  {
   "cell_type": "code",
   "execution_count": 1,
   "metadata": {},
   "outputs": [],
   "source": [
    "import numpy as np\n",
    "import pandas as pd\n",
    "from matplotlib.pyplot import subplots\n",
    "import sklearn.model_selection as skm\n",
    "from ISLP import load_data, confusion_table\n",
    "from ISLP.models import ModelSpec as MS\n",
    "\n",
    "from sklearn.tree import (DecisionTreeClassifier,\n",
    "                          plot_tree,\n",
    "                          export_text)\n",
    "from sklearn.metrics import (accuracy_score,\n",
    "                             precision_score,\n",
    "                             recall_score,\n",
    "                             f1_score,\n",
    "                             log_loss)\n",
    "from sklearn.ensemble import RandomForestClassifier\n",
    "import plotly.express as px\n",
    "from pathlib import Path\n",
    "from tqdm.notebook import tqdm\n",
    "\n",
    "from sklearn.metrics import roc_curve, auc\n",
    "import matplotlib.pyplot as plt\n",
    "from sklearn.metrics import RocCurveDisplay\n",
    "from sklearn.utils import resample"
   ]
  },
  {
   "cell_type": "code",
   "execution_count": 2,
   "metadata": {},
   "outputs": [],
   "source": [
    "# NUM_POSTE   : numéro Météo-France du poste sur 8 chiffres\n",
    "# NOM_USUEL   : nom usuel du poste\n",
    "# LAT         : latitude, négative au sud (en degrés et millionièmes de degré)\n",
    "# LON         : longitude, négative à l’ouest de GREENWICH (en degrés et millionièmes de degré)\n",
    "# ALTI        : altitude du pied de l'abri ou du pluviomètre si pas d'abri (en m)\n",
    "# AAAAMMJJ    : date de la mesure (année mois jour)\n",
    "# RR          : quantité de précipitation tombée en 24 heures (de 06h FU le jour J à 06h FU le jour J+1). La valeur relevée à J+1 est affectée au jour J (en mm et 1/10)\n",
    "# TN          : température minimale sous abri (en °C et 1/10)\n",
    "# HTN         : heure de TN (hhmm)\n",
    "# TX          : température maximale sous abri (en °C et 1/10)\n",
    "# HTX         : heure de TX (hhmm)\n",
    "# TM          : moyenne quotidienne des températures horaires sous abri (en °C et 1/10)\n",
    "# TNTXM       : moyenne quotidienne (TN+TX)/2 (en °C et 1/10)\n",
    "# TAMPLI      : amplitude thermique quotidienne : écart entre TX et TN quotidiens (TX-TN) (en °C et 1/10)\n",
    "# TNSOL       : température quotidienne minimale à 10 cm au-dessus du sol (en °C et 1/10)\n",
    "# TN50        : température quotidienne minimale à 50 cm au-dessus du sol (en °C et 1/10)\n",
    "# DG          : durée de gel sous abri (T ≤ 0°C) (en mn)\n",
    "# FFM         : moyenne quotidienne de la force du vent moyenné sur 10 mn, à 10 m (en m/s et 1/10)\n",
    "# FF2M        : moyenne quotidienne de la force du vent moyenné sur 10 mn, à 2 m (en m/s et 1/10)\n",
    "# FXY         : maximum quotidien de la force maximale horaire du vent moyenné sur 10 mn, à 10 m (en m/s et 1/10)\n",
    "# DXY         : direction de FXY (en rose de 360)\n",
    "# HXY         : heure de FXY (hhmm)\n",
    "# FXI         : maximum quotidien de la force maximale horaire du vent instantané, à 10 m (en m/s et 1/10)\n",
    "# DXI         : direction de FXI (en rose de 360)\n",
    "# HXI         : heure de FXI (hhmm)\n",
    "# FXI2        : maximum quotidien de la force maximale horaire du vent instantané, à 2 m (en m/s et 1/10)\n",
    "# DXI2        : direction de FXI2 (en rose de 360)\n",
    "# HXI2        : heure de FXI2 (hhmm)\n",
    "# FXI3S       : maximum quotidien de la force maximale horaire du vent moyenné sur 3 s, à 10 m (en m/s et 1/10)\n",
    "# DXI3S       : direction de FXI3S (en rose de 360)\n",
    "# HXI3S       : heure de FXI3S (hhmm)\n",
    "# DRR         : durée des précipitations (en mn)\n",
    "\n",
    "# A chaque donnée est associé un code qualité (ex: T;QT) :\n",
    "#  9 : donnée filtrée (la donnée a passé les filtres/contrôles de premiers niveaux)\n",
    "#  0 : donnée protégée (la donnée a été validée définitivement par le climatologue)\n",
    "#  1 : donnée validée (la donnée a été validée par contrôle automatique ou par le climatologue)\n",
    "#  2 : donnée douteuse en cours de vérification (la donnée a été mise en doute par contrôle automatique)\n",
    " \n",
    "# D'une façon générale, les valeurs fournies sont données avec une précision qui correspond globalement à la résolution de l'appareil de mesure de la valeur.\n",
    "# Toutefois, il peut arriver, pour des raisons techniques de stokage ou d'extraction des valeurs, que cette règle ne soit pas respectée.\n",
    "# Du fait d'arrondis, il peut ponctuellement arriver que des valeurs de base à un pas de temps inférieur (par exemple données minutes) ne soient pas exactement cohérentes avec leurs correspondants sur un pas de temps supérieur (par exemple données horaires)."
   ]
  },
  {
   "cell_type": "code",
   "execution_count": 65,
   "metadata": {},
   "outputs": [
    {
     "name": "stdout",
     "output_type": "stream",
     "text": [
      "Index(['AAAAMMJJ', 'TN_BORDEAUX', 'TN_LILLE', 'TN_LYON', 'TN_MARSEILLE',\n",
      "       'TN_MONTPELLIER', 'TN_NANTES', 'TN_NICE', 'TN_PARIS', 'TN_STRASBOURG',\n",
      "       'TN_TOULOUSE', 'TX_BORDEAUX', 'TX_LILLE', 'TX_LYON', 'TX_MARSEILLE',\n",
      "       'TX_MONTPELLIER', 'TX_NANTES', 'TX_NICE', 'TX_PARIS', 'TX_STRASBOURG',\n",
      "       'TX_TOULOUSE', 'TM_BORDEAUX', 'TM_LILLE', 'TM_LYON', 'TM_MARSEILLE',\n",
      "       'TM_MONTPELLIER', 'TM_NANTES', 'TM_NICE', 'TM_PARIS', 'TM_STRASBOURG',\n",
      "       'TM_TOULOUSE', 'TNTXM_BORDEAUX', 'TNTXM_LILLE', 'TNTXM_LYON',\n",
      "       'TNTXM_MARSEILLE', 'TNTXM_MONTPELLIER', 'TNTXM_NANTES', 'TNTXM_NICE',\n",
      "       'TNTXM_PARIS', 'TNTXM_STRASBOURG', 'TNTXM_TOULOUSE', 'TAMPLI_BORDEAUX',\n",
      "       'TAMPLI_LILLE', 'TAMPLI_LYON', 'TAMPLI_MARSEILLE', 'TAMPLI_MONTPELLIER',\n",
      "       'TAMPLI_NANTES', 'TAMPLI_NICE', 'TAMPLI_PARIS', 'TAMPLI_STRASBOURG',\n",
      "       'TAMPLI_TOULOUSE', 'FFM_BORDEAUX', 'FFM_LILLE', 'FFM_LYON',\n",
      "       'FFM_MARSEILLE', 'FFM_MONTPELLIER', 'FFM_NANTES', 'FFM_NICE',\n",
      "       'FFM_PARIS', 'FFM_STRASBOURG', 'FFM_TOULOUSE', 'RR_BORDEAUX',\n",
      "       'RR_LILLE', 'RR_LYON', 'RR_MARSEILLE', 'RR_MONTPELLIER', 'RR_NANTES',\n",
      "       'RR_NICE', 'RR_PARIS', 'RR_STRASBOURG', 'RR_TOULOUSE', 'is_red_day'],\n",
      "      dtype='object')\n"
     ]
    },
    {
     "data": {
      "text/html": [
       "<div>\n",
       "<style scoped>\n",
       "    .dataframe tbody tr th:only-of-type {\n",
       "        vertical-align: middle;\n",
       "    }\n",
       "\n",
       "    .dataframe tbody tr th {\n",
       "        vertical-align: top;\n",
       "    }\n",
       "\n",
       "    .dataframe thead th {\n",
       "        text-align: right;\n",
       "    }\n",
       "</style>\n",
       "<table border=\"1\" class=\"dataframe\">\n",
       "  <thead>\n",
       "    <tr style=\"text-align: right;\">\n",
       "      <th></th>\n",
       "      <th>AAAAMMJJ</th>\n",
       "      <th>TN_BORDEAUX</th>\n",
       "      <th>TN_LILLE</th>\n",
       "      <th>TN_LYON</th>\n",
       "      <th>TN_MARSEILLE</th>\n",
       "      <th>TN_MONTPELLIER</th>\n",
       "      <th>TN_NANTES</th>\n",
       "      <th>TN_NICE</th>\n",
       "      <th>TN_PARIS</th>\n",
       "      <th>TN_STRASBOURG</th>\n",
       "      <th>...</th>\n",
       "      <th>RR_LILLE</th>\n",
       "      <th>RR_LYON</th>\n",
       "      <th>RR_MARSEILLE</th>\n",
       "      <th>RR_MONTPELLIER</th>\n",
       "      <th>RR_NANTES</th>\n",
       "      <th>RR_NICE</th>\n",
       "      <th>RR_PARIS</th>\n",
       "      <th>RR_STRASBOURG</th>\n",
       "      <th>RR_TOULOUSE</th>\n",
       "      <th>is_red_day</th>\n",
       "    </tr>\n",
       "  </thead>\n",
       "  <tbody>\n",
       "    <tr>\n",
       "      <th>0</th>\n",
       "      <td>20170101</td>\n",
       "      <td>2.6</td>\n",
       "      <td>-4.3</td>\n",
       "      <td>-1.2</td>\n",
       "      <td>4.5</td>\n",
       "      <td>2.4</td>\n",
       "      <td>-4.0</td>\n",
       "      <td>4.6</td>\n",
       "      <td>-4.3</td>\n",
       "      <td>-2.9</td>\n",
       "      <td>...</td>\n",
       "      <td>1.4</td>\n",
       "      <td>0.0</td>\n",
       "      <td>0.2</td>\n",
       "      <td>0.0</td>\n",
       "      <td>1.6</td>\n",
       "      <td>0.0</td>\n",
       "      <td>0.2</td>\n",
       "      <td>0.0</td>\n",
       "      <td>0.0</td>\n",
       "      <td>False</td>\n",
       "    </tr>\n",
       "    <tr>\n",
       "      <th>1</th>\n",
       "      <td>20170102</td>\n",
       "      <td>2.2</td>\n",
       "      <td>-1.0</td>\n",
       "      <td>-0.5</td>\n",
       "      <td>6.3</td>\n",
       "      <td>3.3</td>\n",
       "      <td>3.8</td>\n",
       "      <td>5.6</td>\n",
       "      <td>-0.6</td>\n",
       "      <td>-1.9</td>\n",
       "      <td>...</td>\n",
       "      <td>0.0</td>\n",
       "      <td>0.0</td>\n",
       "      <td>0.0</td>\n",
       "      <td>0.0</td>\n",
       "      <td>0.0</td>\n",
       "      <td>0.0</td>\n",
       "      <td>1.6</td>\n",
       "      <td>1.0</td>\n",
       "      <td>0.0</td>\n",
       "      <td>False</td>\n",
       "    </tr>\n",
       "    <tr>\n",
       "      <th>2</th>\n",
       "      <td>20170103</td>\n",
       "      <td>1.3</td>\n",
       "      <td>-2.6</td>\n",
       "      <td>-0.8</td>\n",
       "      <td>-0.1</td>\n",
       "      <td>0.3</td>\n",
       "      <td>0.0</td>\n",
       "      <td>5.1</td>\n",
       "      <td>0.9</td>\n",
       "      <td>-3.7</td>\n",
       "      <td>...</td>\n",
       "      <td>0.2</td>\n",
       "      <td>0.0</td>\n",
       "      <td>0.0</td>\n",
       "      <td>0.0</td>\n",
       "      <td>0.0</td>\n",
       "      <td>0.0</td>\n",
       "      <td>0.0</td>\n",
       "      <td>0.0</td>\n",
       "      <td>0.0</td>\n",
       "      <td>True</td>\n",
       "    </tr>\n",
       "    <tr>\n",
       "      <th>3</th>\n",
       "      <td>20170104</td>\n",
       "      <td>-4.9</td>\n",
       "      <td>2.1</td>\n",
       "      <td>-2.0</td>\n",
       "      <td>1.5</td>\n",
       "      <td>-2.8</td>\n",
       "      <td>-3.2</td>\n",
       "      <td>5.4</td>\n",
       "      <td>0.1</td>\n",
       "      <td>-1.9</td>\n",
       "      <td>...</td>\n",
       "      <td>2.4</td>\n",
       "      <td>1.0</td>\n",
       "      <td>0.0</td>\n",
       "      <td>0.0</td>\n",
       "      <td>0.0</td>\n",
       "      <td>0.0</td>\n",
       "      <td>0.8</td>\n",
       "      <td>0.0</td>\n",
       "      <td>0.0</td>\n",
       "      <td>True</td>\n",
       "    </tr>\n",
       "    <tr>\n",
       "      <th>4</th>\n",
       "      <td>20170105</td>\n",
       "      <td>-2.8</td>\n",
       "      <td>0.3</td>\n",
       "      <td>0.3</td>\n",
       "      <td>2.4</td>\n",
       "      <td>1.6</td>\n",
       "      <td>0.1</td>\n",
       "      <td>4.4</td>\n",
       "      <td>2.0</td>\n",
       "      <td>-1.0</td>\n",
       "      <td>...</td>\n",
       "      <td>0.0</td>\n",
       "      <td>0.0</td>\n",
       "      <td>0.0</td>\n",
       "      <td>0.0</td>\n",
       "      <td>0.0</td>\n",
       "      <td>0.0</td>\n",
       "      <td>0.0</td>\n",
       "      <td>0.0</td>\n",
       "      <td>0.0</td>\n",
       "      <td>True</td>\n",
       "    </tr>\n",
       "  </tbody>\n",
       "</table>\n",
       "<p>5 rows × 72 columns</p>\n",
       "</div>"
      ],
      "text/plain": [
       "   AAAAMMJJ  TN_BORDEAUX  TN_LILLE  TN_LYON  TN_MARSEILLE  TN_MONTPELLIER  \\\n",
       "0  20170101          2.6      -4.3     -1.2           4.5             2.4   \n",
       "1  20170102          2.2      -1.0     -0.5           6.3             3.3   \n",
       "2  20170103          1.3      -2.6     -0.8          -0.1             0.3   \n",
       "3  20170104         -4.9       2.1     -2.0           1.5            -2.8   \n",
       "4  20170105         -2.8       0.3      0.3           2.4             1.6   \n",
       "\n",
       "   TN_NANTES  TN_NICE  TN_PARIS  TN_STRASBOURG  ...  RR_LILLE  RR_LYON  \\\n",
       "0       -4.0      4.6      -4.3           -2.9  ...       1.4      0.0   \n",
       "1        3.8      5.6      -0.6           -1.9  ...       0.0      0.0   \n",
       "2        0.0      5.1       0.9           -3.7  ...       0.2      0.0   \n",
       "3       -3.2      5.4       0.1           -1.9  ...       2.4      1.0   \n",
       "4        0.1      4.4       2.0           -1.0  ...       0.0      0.0   \n",
       "\n",
       "   RR_MARSEILLE  RR_MONTPELLIER  RR_NANTES  RR_NICE  RR_PARIS  RR_STRASBOURG  \\\n",
       "0           0.2             0.0        1.6      0.0       0.2            0.0   \n",
       "1           0.0             0.0        0.0      0.0       1.6            1.0   \n",
       "2           0.0             0.0        0.0      0.0       0.0            0.0   \n",
       "3           0.0             0.0        0.0      0.0       0.8            0.0   \n",
       "4           0.0             0.0        0.0      0.0       0.0            0.0   \n",
       "\n",
       "   RR_TOULOUSE  is_red_day  \n",
       "0          0.0       False  \n",
       "1          0.0       False  \n",
       "2          0.0        True  \n",
       "3          0.0        True  \n",
       "4          0.0        True  \n",
       "\n",
       "[5 rows x 72 columns]"
      ]
     },
     "execution_count": 65,
     "metadata": {},
     "output_type": "execute_result"
    }
   ],
   "source": [
    "df = pd.read_feather('../data/merged_meteo_red_days_from_20170101.feather')\n",
    "print(df.columns)\n",
    "df.head()"
   ]
  },
  {
   "cell_type": "code",
   "execution_count": 66,
   "metadata": {},
   "outputs": [],
   "source": [
    "# Drop non TN/TX/TM cols\n",
    "# cols_to_keep = [col for col in df.columns if  'TN_' in col or  'TX_' in col in col or col == 'AAAAMMJJ' or col == 'is_red_day']\n",
    "# df = df[cols_to_keep]"
   ]
  },
  {
   "cell_type": "code",
   "execution_count": 67,
   "metadata": {},
   "outputs": [
    {
     "data": {
      "text/html": [
       "<div>\n",
       "<style scoped>\n",
       "    .dataframe tbody tr th:only-of-type {\n",
       "        vertical-align: middle;\n",
       "    }\n",
       "\n",
       "    .dataframe tbody tr th {\n",
       "        vertical-align: top;\n",
       "    }\n",
       "\n",
       "    .dataframe thead th {\n",
       "        text-align: right;\n",
       "    }\n",
       "</style>\n",
       "<table border=\"1\" class=\"dataframe\">\n",
       "  <thead>\n",
       "    <tr style=\"text-align: right;\">\n",
       "      <th></th>\n",
       "      <th>AAAAMMJJ</th>\n",
       "      <th>TN_BORDEAUX</th>\n",
       "      <th>TN_LILLE</th>\n",
       "      <th>TN_LYON</th>\n",
       "      <th>TN_MARSEILLE</th>\n",
       "      <th>TN_MONTPELLIER</th>\n",
       "      <th>TN_NANTES</th>\n",
       "      <th>TN_NICE</th>\n",
       "      <th>TN_PARIS</th>\n",
       "      <th>TN_STRASBOURG</th>\n",
       "      <th>...</th>\n",
       "      <th>RR_LILLE</th>\n",
       "      <th>RR_LYON</th>\n",
       "      <th>RR_MARSEILLE</th>\n",
       "      <th>RR_MONTPELLIER</th>\n",
       "      <th>RR_NANTES</th>\n",
       "      <th>RR_NICE</th>\n",
       "      <th>RR_PARIS</th>\n",
       "      <th>RR_STRASBOURG</th>\n",
       "      <th>RR_TOULOUSE</th>\n",
       "      <th>is_red_day</th>\n",
       "    </tr>\n",
       "  </thead>\n",
       "  <tbody>\n",
       "    <tr>\n",
       "      <th>2621</th>\n",
       "      <td>20240306</td>\n",
       "      <td>6.2</td>\n",
       "      <td>NaN</td>\n",
       "      <td>3.9</td>\n",
       "      <td>3.3</td>\n",
       "      <td>4.9</td>\n",
       "      <td>1.8</td>\n",
       "      <td>6.6</td>\n",
       "      <td>5.4</td>\n",
       "      <td>3.1</td>\n",
       "      <td>...</td>\n",
       "      <td>NaN</td>\n",
       "      <td>0.0</td>\n",
       "      <td>0.0</td>\n",
       "      <td>0.0</td>\n",
       "      <td>0.2</td>\n",
       "      <td>0.0</td>\n",
       "      <td>0.0</td>\n",
       "      <td>2.0</td>\n",
       "      <td>0.0</td>\n",
       "      <td>True</td>\n",
       "    </tr>\n",
       "    <tr>\n",
       "      <th>2622</th>\n",
       "      <td>20240307</td>\n",
       "      <td>5.7</td>\n",
       "      <td>NaN</td>\n",
       "      <td>0.3</td>\n",
       "      <td>0.8</td>\n",
       "      <td>0.5</td>\n",
       "      <td>4.0</td>\n",
       "      <td>7.4</td>\n",
       "      <td>3.8</td>\n",
       "      <td>3.6</td>\n",
       "      <td>...</td>\n",
       "      <td>NaN</td>\n",
       "      <td>0.0</td>\n",
       "      <td>0.0</td>\n",
       "      <td>0.0</td>\n",
       "      <td>0.0</td>\n",
       "      <td>0.0</td>\n",
       "      <td>0.0</td>\n",
       "      <td>0.0</td>\n",
       "      <td>0.0</td>\n",
       "      <td>True</td>\n",
       "    </tr>\n",
       "    <tr>\n",
       "      <th>2623</th>\n",
       "      <td>20240308</td>\n",
       "      <td>8.9</td>\n",
       "      <td>NaN</td>\n",
       "      <td>4.8</td>\n",
       "      <td>7.0</td>\n",
       "      <td>8.7</td>\n",
       "      <td>6.9</td>\n",
       "      <td>6.9</td>\n",
       "      <td>3.6</td>\n",
       "      <td>-0.8</td>\n",
       "      <td>...</td>\n",
       "      <td>NaN</td>\n",
       "      <td>0.4</td>\n",
       "      <td>8.0</td>\n",
       "      <td>13.1</td>\n",
       "      <td>1.4</td>\n",
       "      <td>8.1</td>\n",
       "      <td>0.0</td>\n",
       "      <td>0.0</td>\n",
       "      <td>12.9</td>\n",
       "      <td>False</td>\n",
       "    </tr>\n",
       "    <tr>\n",
       "      <th>2624</th>\n",
       "      <td>20240309</td>\n",
       "      <td>7.5</td>\n",
       "      <td>NaN</td>\n",
       "      <td>5.9</td>\n",
       "      <td>7.7</td>\n",
       "      <td>9.9</td>\n",
       "      <td>6.2</td>\n",
       "      <td>8.2</td>\n",
       "      <td>6.4</td>\n",
       "      <td>2.3</td>\n",
       "      <td>...</td>\n",
       "      <td>NaN</td>\n",
       "      <td>15.1</td>\n",
       "      <td>69.4</td>\n",
       "      <td>21.8</td>\n",
       "      <td>8.5</td>\n",
       "      <td>40.3</td>\n",
       "      <td>6.5</td>\n",
       "      <td>0.0</td>\n",
       "      <td>0.0</td>\n",
       "      <td>False</td>\n",
       "    </tr>\n",
       "    <tr>\n",
       "      <th>2625</th>\n",
       "      <td>20240310</td>\n",
       "      <td>3.3</td>\n",
       "      <td>NaN</td>\n",
       "      <td>5.7</td>\n",
       "      <td>9.2</td>\n",
       "      <td>6.3</td>\n",
       "      <td>0.9</td>\n",
       "      <td>8.4</td>\n",
       "      <td>7.1</td>\n",
       "      <td>6.4</td>\n",
       "      <td>...</td>\n",
       "      <td>NaN</td>\n",
       "      <td>4.4</td>\n",
       "      <td>3.6</td>\n",
       "      <td>0.0</td>\n",
       "      <td>7.5</td>\n",
       "      <td>23.8</td>\n",
       "      <td>0.0</td>\n",
       "      <td>7.3</td>\n",
       "      <td>0.2</td>\n",
       "      <td>False</td>\n",
       "    </tr>\n",
       "  </tbody>\n",
       "</table>\n",
       "<p>5 rows × 72 columns</p>\n",
       "</div>"
      ],
      "text/plain": [
       "      AAAAMMJJ  TN_BORDEAUX  TN_LILLE  TN_LYON  TN_MARSEILLE  TN_MONTPELLIER  \\\n",
       "2621  20240306          6.2       NaN      3.9           3.3             4.9   \n",
       "2622  20240307          5.7       NaN      0.3           0.8             0.5   \n",
       "2623  20240308          8.9       NaN      4.8           7.0             8.7   \n",
       "2624  20240309          7.5       NaN      5.9           7.7             9.9   \n",
       "2625  20240310          3.3       NaN      5.7           9.2             6.3   \n",
       "\n",
       "      TN_NANTES  TN_NICE  TN_PARIS  TN_STRASBOURG  ...  RR_LILLE  RR_LYON  \\\n",
       "2621        1.8      6.6       5.4            3.1  ...       NaN      0.0   \n",
       "2622        4.0      7.4       3.8            3.6  ...       NaN      0.0   \n",
       "2623        6.9      6.9       3.6           -0.8  ...       NaN      0.4   \n",
       "2624        6.2      8.2       6.4            2.3  ...       NaN     15.1   \n",
       "2625        0.9      8.4       7.1            6.4  ...       NaN      4.4   \n",
       "\n",
       "      RR_MARSEILLE  RR_MONTPELLIER  RR_NANTES  RR_NICE  RR_PARIS  \\\n",
       "2621           0.0             0.0        0.2      0.0       0.0   \n",
       "2622           0.0             0.0        0.0      0.0       0.0   \n",
       "2623           8.0            13.1        1.4      8.1       0.0   \n",
       "2624          69.4            21.8        8.5     40.3       6.5   \n",
       "2625           3.6             0.0        7.5     23.8       0.0   \n",
       "\n",
       "      RR_STRASBOURG  RR_TOULOUSE  is_red_day  \n",
       "2621            2.0          0.0        True  \n",
       "2622            0.0          0.0        True  \n",
       "2623            0.0         12.9       False  \n",
       "2624            0.0          0.0       False  \n",
       "2625            7.3          0.2       False  \n",
       "\n",
       "[5 rows x 72 columns]"
      ]
     },
     "execution_count": 67,
     "metadata": {},
     "output_type": "execute_result"
    }
   ],
   "source": [
    "# Remove days after 20240311\n",
    "df = df[df['AAAAMMJJ'] < 20240311]\n",
    "df.tail()"
   ]
  },
  {
   "cell_type": "code",
   "execution_count": 68,
   "metadata": {},
   "outputs": [
    {
     "name": "stdout",
     "output_type": "stream",
     "text": [
      "AAAAMMJJ                0\n",
      "TN_BORDEAUX             0\n",
      "TN_LILLE               70\n",
      "TN_LYON                 0\n",
      "TN_MARSEILLE            0\n",
      "TN_MONTPELLIER        365\n",
      "TN_NANTES               0\n",
      "TN_NICE                 0\n",
      "TN_PARIS                0\n",
      "TN_STRASBOURG           0\n",
      "TN_TOULOUSE             0\n",
      "TX_BORDEAUX             0\n",
      "TX_LILLE               70\n",
      "TX_LYON                 0\n",
      "TX_MARSEILLE            0\n",
      "TX_MONTPELLIER        365\n",
      "TX_NANTES               0\n",
      "TX_NICE                 0\n",
      "TX_PARIS                0\n",
      "TX_STRASBOURG           0\n",
      "TX_TOULOUSE             0\n",
      "TM_BORDEAUX             0\n",
      "TM_LILLE               70\n",
      "TM_LYON                 0\n",
      "TM_MARSEILLE            5\n",
      "TM_MONTPELLIER        365\n",
      "TM_NANTES               0\n",
      "TM_NICE                 1\n",
      "TM_PARIS                0\n",
      "TM_STRASBOURG           0\n",
      "TM_TOULOUSE             0\n",
      "TNTXM_BORDEAUX          0\n",
      "TNTXM_LILLE            70\n",
      "TNTXM_LYON              0\n",
      "TNTXM_MARSEILLE         0\n",
      "TNTXM_MONTPELLIER     365\n",
      "TNTXM_NANTES            0\n",
      "TNTXM_NICE              0\n",
      "TNTXM_PARIS             0\n",
      "TNTXM_STRASBOURG        0\n",
      "TNTXM_TOULOUSE          0\n",
      "TAMPLI_BORDEAUX         0\n",
      "TAMPLI_LILLE           70\n",
      "TAMPLI_LYON             0\n",
      "TAMPLI_MARSEILLE        0\n",
      "TAMPLI_MONTPELLIER    365\n",
      "TAMPLI_NANTES           0\n",
      "TAMPLI_NICE             0\n",
      "TAMPLI_PARIS            0\n",
      "TAMPLI_STRASBOURG       0\n",
      "TAMPLI_TOULOUSE         0\n",
      "FFM_BORDEAUX            2\n",
      "FFM_LILLE              72\n",
      "FFM_LYON                0\n",
      "FFM_MARSEILLE          14\n",
      "FFM_MONTPELLIER       366\n",
      "FFM_NANTES              0\n",
      "FFM_NICE                0\n",
      "FFM_PARIS              14\n",
      "FFM_STRASBOURG          5\n",
      "FFM_TOULOUSE            3\n",
      "RR_BORDEAUX             0\n",
      "RR_LILLE               70\n",
      "RR_LYON                 0\n",
      "RR_MARSEILLE            0\n",
      "RR_MONTPELLIER        365\n",
      "RR_NANTES               0\n",
      "RR_NICE                 0\n",
      "RR_PARIS                0\n",
      "RR_STRASBOURG           0\n",
      "RR_TOULOUSE             0\n",
      "is_red_day              0\n",
      "dtype: int64\n"
     ]
    },
    {
     "data": {
      "text/plain": [
       "Index(['TN_LILLE', 'TN_MONTPELLIER', 'TX_LILLE', 'TX_MONTPELLIER', 'TM_LILLE',\n",
       "       'TM_MARSEILLE', 'TM_MONTPELLIER', 'TM_NICE', 'TNTXM_LILLE',\n",
       "       'TNTXM_MONTPELLIER', 'TAMPLI_LILLE', 'TAMPLI_MONTPELLIER',\n",
       "       'FFM_BORDEAUX', 'FFM_LILLE', 'FFM_MARSEILLE', 'FFM_MONTPELLIER',\n",
       "       'FFM_PARIS', 'FFM_STRASBOURG', 'FFM_TOULOUSE', 'RR_LILLE',\n",
       "       'RR_MONTPELLIER'],\n",
       "      dtype='object')"
      ]
     },
     "execution_count": 68,
     "metadata": {},
     "output_type": "execute_result"
    }
   ],
   "source": [
    "# Count nan values and show nan cols:\n",
    "\n",
    "print(df.isna().sum())\n",
    "pd.set_option('display.max_rows', None) \n",
    "df.columns[df.isna().sum() > 0]"
   ]
  },
  {
   "cell_type": "code",
   "execution_count": 69,
   "metadata": {},
   "outputs": [
    {
     "data": {
      "text/plain": [
       "Index(['AAAAMMJJ', 'TN_BORDEAUX', 'TN_LILLE', 'TN_LYON', 'TN_MARSEILLE',\n",
       "       'TN_MONTPELLIER', 'TN_NANTES', 'TN_NICE', 'TN_PARIS', 'TN_STRASBOURG',\n",
       "       'TN_TOULOUSE', 'TX_BORDEAUX', 'TX_LILLE', 'TX_LYON', 'TX_MARSEILLE',\n",
       "       'TX_MONTPELLIER', 'TX_NANTES', 'TX_NICE', 'TX_PARIS', 'TX_STRASBOURG',\n",
       "       'TX_TOULOUSE', 'TM_BORDEAUX', 'TM_LILLE', 'TM_LYON', 'TM_MARSEILLE',\n",
       "       'TM_MONTPELLIER', 'TM_NANTES', 'TM_NICE', 'TM_PARIS', 'TM_STRASBOURG',\n",
       "       'TM_TOULOUSE', 'TNTXM_BORDEAUX', 'TNTXM_LILLE', 'TNTXM_LYON',\n",
       "       'TNTXM_MARSEILLE', 'TNTXM_MONTPELLIER', 'TNTXM_NANTES', 'TNTXM_NICE',\n",
       "       'TNTXM_PARIS', 'TNTXM_STRASBOURG', 'TNTXM_TOULOUSE', 'TAMPLI_BORDEAUX',\n",
       "       'TAMPLI_LILLE', 'TAMPLI_LYON', 'TAMPLI_MARSEILLE', 'TAMPLI_MONTPELLIER',\n",
       "       'TAMPLI_NANTES', 'TAMPLI_NICE', 'TAMPLI_PARIS', 'TAMPLI_STRASBOURG',\n",
       "       'TAMPLI_TOULOUSE', 'FFM_BORDEAUX', 'FFM_LILLE', 'FFM_LYON',\n",
       "       'FFM_MARSEILLE', 'FFM_MONTPELLIER', 'FFM_NANTES', 'FFM_NICE',\n",
       "       'FFM_PARIS', 'FFM_STRASBOURG', 'FFM_TOULOUSE', 'RR_BORDEAUX',\n",
       "       'RR_LILLE', 'RR_LYON', 'RR_MARSEILLE', 'RR_MONTPELLIER', 'RR_NANTES',\n",
       "       'RR_NICE', 'RR_PARIS', 'RR_STRASBOURG', 'RR_TOULOUSE', 'is_red_day'],\n",
       "      dtype='object')"
      ]
     },
     "execution_count": 69,
     "metadata": {},
     "output_type": "execute_result"
    }
   ],
   "source": [
    "df.columns"
   ]
  },
  {
   "cell_type": "code",
   "execution_count": 70,
   "metadata": {},
   "outputs": [],
   "source": [
    "# drop montepellier\n",
    "df.drop(columns=[c for c in df.columns if 'MONTPELLIER' in c], axis=1, inplace=True)"
   ]
  },
  {
   "cell_type": "code",
   "execution_count": 71,
   "metadata": {},
   "outputs": [
    {
     "name": "stdout",
     "output_type": "stream",
     "text": [
      "AAAAMMJJ              0\n",
      "TN_BORDEAUX           0\n",
      "TN_LILLE             70\n",
      "TN_LYON               0\n",
      "TN_MARSEILLE          0\n",
      "TN_NANTES             0\n",
      "TN_NICE               0\n",
      "TN_PARIS              0\n",
      "TN_STRASBOURG         0\n",
      "TN_TOULOUSE           0\n",
      "TX_BORDEAUX           0\n",
      "TX_LILLE             70\n",
      "TX_LYON               0\n",
      "TX_MARSEILLE          0\n",
      "TX_NANTES             0\n",
      "TX_NICE               0\n",
      "TX_PARIS              0\n",
      "TX_STRASBOURG         0\n",
      "TX_TOULOUSE           0\n",
      "TM_BORDEAUX           0\n",
      "TM_LILLE             70\n",
      "TM_LYON               0\n",
      "TM_MARSEILLE          5\n",
      "TM_NANTES             0\n",
      "TM_NICE               1\n",
      "TM_PARIS              0\n",
      "TM_STRASBOURG         0\n",
      "TM_TOULOUSE           0\n",
      "TNTXM_BORDEAUX        0\n",
      "TNTXM_LILLE          70\n",
      "TNTXM_LYON            0\n",
      "TNTXM_MARSEILLE       0\n",
      "TNTXM_NANTES          0\n",
      "TNTXM_NICE            0\n",
      "TNTXM_PARIS           0\n",
      "TNTXM_STRASBOURG      0\n",
      "TNTXM_TOULOUSE        0\n",
      "TAMPLI_BORDEAUX       0\n",
      "TAMPLI_LILLE         70\n",
      "TAMPLI_LYON           0\n",
      "TAMPLI_MARSEILLE      0\n",
      "TAMPLI_NANTES         0\n",
      "TAMPLI_NICE           0\n",
      "TAMPLI_PARIS          0\n",
      "TAMPLI_STRASBOURG     0\n",
      "TAMPLI_TOULOUSE       0\n",
      "FFM_BORDEAUX          2\n",
      "FFM_LILLE            72\n",
      "FFM_LYON              0\n",
      "FFM_MARSEILLE        14\n",
      "FFM_NANTES            0\n",
      "FFM_NICE              0\n",
      "FFM_PARIS            14\n",
      "FFM_STRASBOURG        5\n",
      "FFM_TOULOUSE          3\n",
      "RR_BORDEAUX           0\n",
      "RR_LILLE             70\n",
      "RR_LYON               0\n",
      "RR_MARSEILLE          0\n",
      "RR_NANTES             0\n",
      "RR_NICE               0\n",
      "RR_PARIS              0\n",
      "RR_STRASBOURG         0\n",
      "RR_TOULOUSE           0\n",
      "is_red_day            0\n",
      "dtype: int64\n"
     ]
    }
   ],
   "source": [
    "print(df.isna().sum())\n"
   ]
  },
  {
   "cell_type": "code",
   "execution_count": 72,
   "metadata": {},
   "outputs": [],
   "source": [
    "df.dropna(inplace=True)"
   ]
  },
  {
   "cell_type": "markdown",
   "metadata": {},
   "source": [
    "Feature engineering"
   ]
  },
  {
   "cell_type": "code",
   "execution_count": 73,
   "metadata": {},
   "outputs": [],
   "source": [
    "# Add a is week day feature:\n",
    "daydt = pd.to_datetime(df['AAAAMMJJ'], format='%Y%m%d').dt\n",
    "df['is_week_day'] = daydt.dayofweek < 5"
   ]
  },
  {
   "cell_type": "code",
   "execution_count": 82,
   "metadata": {},
   "outputs": [],
   "source": [
    "# Add the number of elapsed red days for the current year\n",
    "from datetime import datetime\n",
    "\n",
    "df['is_red_day'] = df['is_red_day'].astype(int)\n",
    "df['elapsed_red_days'] = df.groupby(daydt.year)['is_red_day'].cumsum()\n",
    "df['last_day_was_red'] = df['is_red_day'].shift(1).fillna(0).astype(int)\n",
    "\n",
    "# end_of_march = datetime(daydt.year if daydt.month < 3 else daydt.year + 1, 3, 31)\n",
    "# fix the code below\n",
    "# end_of_march = daydt.apply(lambda x: x.replace(year=x.year + 1, month=3, day=31) if x.month >= 3 else x.replace(month=3, day=31))\n",
    "# df['days_until_end_of_march'] = (end_of_march - daydt).dt.days\n",
    "# df['days_until_end_of_march']"
   ]
  },
  {
   "cell_type": "code",
   "execution_count": 83,
   "metadata": {},
   "outputs": [],
   "source": [
    "# df['is_thursday_or_friday'] = daydt.dayofweek.isin([3, 4])"
   ]
  },
  {
   "cell_type": "code",
   "execution_count": 84,
   "metadata": {},
   "outputs": [],
   "source": [
    "# Remove data between  01/04 and 01/11\n",
    "df = df[~((daydt.month >= 4) & (daydt.month <= 10))]"
   ]
  },
  {
   "cell_type": "code",
   "execution_count": 85,
   "metadata": {},
   "outputs": [
    {
     "data": {
      "text/plain": [
       "Index(['AAAAMMJJ', 'TN_BORDEAUX', 'TN_LILLE', 'TN_LYON', 'TN_MARSEILLE',\n",
       "       'TN_NANTES', 'TN_NICE', 'TN_PARIS', 'TN_STRASBOURG', 'TN_TOULOUSE',\n",
       "       'TX_BORDEAUX', 'TX_LILLE', 'TX_LYON', 'TX_MARSEILLE', 'TX_NANTES',\n",
       "       'TX_NICE', 'TX_PARIS', 'TX_STRASBOURG', 'TX_TOULOUSE', 'TM_BORDEAUX',\n",
       "       'TM_LILLE', 'TM_LYON', 'TM_MARSEILLE', 'TM_NANTES', 'TM_NICE',\n",
       "       'TM_PARIS', 'TM_STRASBOURG', 'TM_TOULOUSE', 'TNTXM_BORDEAUX',\n",
       "       'TNTXM_LILLE', 'TNTXM_LYON', 'TNTXM_MARSEILLE', 'TNTXM_NANTES',\n",
       "       'TNTXM_NICE', 'TNTXM_PARIS', 'TNTXM_STRASBOURG', 'TNTXM_TOULOUSE',\n",
       "       'TAMPLI_BORDEAUX', 'TAMPLI_LILLE', 'TAMPLI_LYON', 'TAMPLI_MARSEILLE',\n",
       "       'TAMPLI_NANTES', 'TAMPLI_NICE', 'TAMPLI_PARIS', 'TAMPLI_STRASBOURG',\n",
       "       'TAMPLI_TOULOUSE', 'FFM_BORDEAUX', 'FFM_LILLE', 'FFM_LYON',\n",
       "       'FFM_MARSEILLE', 'FFM_NANTES', 'FFM_NICE', 'FFM_PARIS',\n",
       "       'FFM_STRASBOURG', 'FFM_TOULOUSE', 'RR_BORDEAUX', 'RR_LILLE', 'RR_LYON',\n",
       "       'RR_MARSEILLE', 'RR_NANTES', 'RR_NICE', 'RR_PARIS', 'RR_STRASBOURG',\n",
       "       'RR_TOULOUSE', 'is_red_day', 'is_week_day', 'elapsed_red_days',\n",
       "       'last_day_was_red'],\n",
       "      dtype='object')"
      ]
     },
     "execution_count": 85,
     "metadata": {},
     "output_type": "execute_result"
    }
   ],
   "source": [
    "df.columns"
   ]
  },
  {
   "cell_type": "markdown",
   "metadata": {},
   "source": [
    "Learning"
   ]
  },
  {
   "cell_type": "code",
   "execution_count": 86,
   "metadata": {},
   "outputs": [
    {
     "data": {
      "text/plain": [
       "is_red_day\n",
       "0    895\n",
       "1    149\n",
       "Name: count, dtype: int64"
      ]
     },
     "execution_count": 86,
     "metadata": {},
     "output_type": "execute_result"
    }
   ],
   "source": [
    "#  show values count in y\n",
    "df['is_red_day'].value_counts()"
   ]
  },
  {
   "cell_type": "code",
   "execution_count": 87,
   "metadata": {},
   "outputs": [],
   "source": [
    "def evaluate(model, X, y, plot_roc_rurve=False):\n",
    "    y_pred = model.predict(X)\n",
    "    print(f'Accuracy: {accuracy_score(y, y_pred)}')\n",
    "    print('Precision', precision_score(y, y_pred))\n",
    "    print('Recall', recall_score(y, y_pred))\n",
    "    print('F1 score', f1_score(y, y_pred))\n",
    "    display(confusion_table(y, y_pred))\n",
    "\n",
    "    if plot_roc_rurve:\n",
    "        y_pred_proba = model.predict_proba(X)[:,1]\n",
    "        fpr, tpr, _ = roc_curve(y, y_pred_proba)\n",
    "        roc_auc = auc(fpr, tpr)\n",
    "        fig = px.area(x=fpr, y=tpr, title=f'ROC Curve (AUC={roc_auc:.4f})',\n",
    "                    labels=dict(x='False Positive Rate', y='True Positive Rate'),\n",
    "                    width=700, height=500\n",
    "                    )\n",
    "        fig.show()"
   ]
  },
  {
   "cell_type": "code",
   "execution_count": 88,
   "metadata": {},
   "outputs": [],
   "source": [
    "X = df.drop(['is_red_day', 'AAAAMMJJ'], axis=1)\n",
    "todrop = []\n",
    "for c in X.columns:\n",
    "    if 'TAMPLI' in c or 'RR' in c or 'FFM' in c or 'TM' in c or 'TNTXM' in c:\n",
    "        todrop.append(c)\n",
    "X = X.drop(todrop, axis=1)\n",
    "y = df['is_red_day']\n",
    "\n",
    "\n",
    "X_train_val, X_test, y_train_val, y_test = skm.train_test_split(X, y, test_size=0.2, random_state=42)"
   ]
  },
  {
   "cell_type": "code",
   "execution_count": 89,
   "metadata": {},
   "outputs": [],
   "source": [
    "# Over/undersamping\n",
    "from imblearn.over_sampling import SMOTE\n",
    "from imblearn.under_sampling import RandomUnderSampler\n",
    "from imblearn.combine import SMOTEENN\n",
    "\n",
    "\n",
    "X_train, X_val, y_train, y_val = skm.train_test_split(X_train_val, y_train_val, test_size=0.2, random_state=42)\n",
    "\n",
    "# Not working better\n",
    "# rus = RandomUnderSampler(random_state=42)\n",
    "# X_train_resampl, y_train_resampl = rus.fit_resample(X_train, y_train)\n",
    "\n",
    "\n",
    "# smote = SMOTE(random_state=42)\n",
    "# X_train_resampl, y_train_resampl = smote.fit_resample(X_train, y_train)\n",
    "\n",
    "# smote_enn = SMOTEENN(random_state=42)\n",
    "# X_train_resampl, y_train_resampl = smote_enn.fit_resample(X_train, y_train)\n"
   ]
  },
  {
   "cell_type": "code",
   "execution_count": 90,
   "metadata": {},
   "outputs": [
    {
     "name": "stdout",
     "output_type": "stream",
     "text": [
      "Train\n",
      "Accuracy: 0.9985029940119761\n",
      "Precision 0.9894736842105263\n",
      "Recall 1.0\n",
      "F1 score 0.9947089947089947\n"
     ]
    },
    {
     "data": {
      "text/html": [
       "<div>\n",
       "<style scoped>\n",
       "    .dataframe tbody tr th:only-of-type {\n",
       "        vertical-align: middle;\n",
       "    }\n",
       "\n",
       "    .dataframe tbody tr th {\n",
       "        vertical-align: top;\n",
       "    }\n",
       "\n",
       "    .dataframe thead th {\n",
       "        text-align: right;\n",
       "    }\n",
       "</style>\n",
       "<table border=\"1\" class=\"dataframe\">\n",
       "  <thead>\n",
       "    <tr style=\"text-align: right;\">\n",
       "      <th>Truth</th>\n",
       "      <th>0</th>\n",
       "      <th>1</th>\n",
       "    </tr>\n",
       "    <tr>\n",
       "      <th>Predicted</th>\n",
       "      <th></th>\n",
       "      <th></th>\n",
       "    </tr>\n",
       "  </thead>\n",
       "  <tbody>\n",
       "    <tr>\n",
       "      <th>0</th>\n",
       "      <td>573</td>\n",
       "      <td>1</td>\n",
       "    </tr>\n",
       "    <tr>\n",
       "      <th>1</th>\n",
       "      <td>0</td>\n",
       "      <td>94</td>\n",
       "    </tr>\n",
       "  </tbody>\n",
       "</table>\n",
       "</div>"
      ],
      "text/plain": [
       "Truth        0   1\n",
       "Predicted         \n",
       "0          573   1\n",
       "1            0  94"
      ]
     },
     "metadata": {},
     "output_type": "display_data"
    },
    {
     "name": "stdout",
     "output_type": "stream",
     "text": [
      "Validation\n",
      "Accuracy: 0.8802395209580839\n",
      "Precision 0.5952380952380952\n",
      "Recall 0.8928571428571429\n",
      "F1 score 0.7142857142857143\n"
     ]
    },
    {
     "data": {
      "text/html": [
       "<div>\n",
       "<style scoped>\n",
       "    .dataframe tbody tr th:only-of-type {\n",
       "        vertical-align: middle;\n",
       "    }\n",
       "\n",
       "    .dataframe tbody tr th {\n",
       "        vertical-align: top;\n",
       "    }\n",
       "\n",
       "    .dataframe thead th {\n",
       "        text-align: right;\n",
       "    }\n",
       "</style>\n",
       "<table border=\"1\" class=\"dataframe\">\n",
       "  <thead>\n",
       "    <tr style=\"text-align: right;\">\n",
       "      <th>Truth</th>\n",
       "      <th>0</th>\n",
       "      <th>1</th>\n",
       "    </tr>\n",
       "    <tr>\n",
       "      <th>Predicted</th>\n",
       "      <th></th>\n",
       "      <th></th>\n",
       "    </tr>\n",
       "  </thead>\n",
       "  <tbody>\n",
       "    <tr>\n",
       "      <th>0</th>\n",
       "      <td>122</td>\n",
       "      <td>17</td>\n",
       "    </tr>\n",
       "    <tr>\n",
       "      <th>1</th>\n",
       "      <td>3</td>\n",
       "      <td>25</td>\n",
       "    </tr>\n",
       "  </tbody>\n",
       "</table>\n",
       "</div>"
      ],
      "text/plain": [
       "Truth        0   1\n",
       "Predicted         \n",
       "0          122  17\n",
       "1            3  25"
      ]
     },
     "metadata": {},
     "output_type": "display_data"
    },
    {
     "data": {
      "application/vnd.plotly.v1+json": {
       "config": {
        "plotlyServerURL": "https://plot.ly"
       },
       "data": [
        {
         "fillpattern": {
          "shape": ""
         },
         "hovertemplate": "False Positive Rate=%{x}<br>True Positive Rate=%{y}<extra></extra>",
         "legendgroup": "",
         "line": {
          "color": "#636efa"
         },
         "marker": {
          "symbol": "circle"
         },
         "mode": "lines",
         "name": "",
         "orientation": "v",
         "showlegend": false,
         "stackgroup": "1",
         "type": "scatter",
         "x": [
          0,
          0,
          0,
          0.007194244604316547,
          0.007194244604316547,
          0.02158273381294964,
          0.02158273381294964,
          0.04316546762589928,
          0.04316546762589928,
          0.050359712230215826,
          0.050359712230215826,
          0.08633093525179857,
          0.08633093525179857,
          0.1079136690647482,
          0.1079136690647482,
          0.11510791366906475,
          0.11510791366906475,
          0.1223021582733813,
          0.1223021582733813,
          0.1366906474820144,
          0.1366906474820144,
          0.1510791366906475,
          0.1510791366906475,
          0.45323741007194246,
          0.4676258992805755,
          0.6402877697841727,
          0.6546762589928058,
          0.6906474820143885,
          0.7050359712230215,
          0.7410071942446043,
          0.7553956834532374,
          0.762589928057554,
          0.7769784172661871,
          0.7985611510791367,
          0.8201438848920863,
          0.9136690647482014,
          0.9280575539568345,
          1
         ],
         "xaxis": "x",
         "y": [
          0,
          0.03571428571428571,
          0.14285714285714285,
          0.14285714285714285,
          0.32142857142857145,
          0.32142857142857145,
          0.5,
          0.5,
          0.6428571428571429,
          0.6428571428571429,
          0.7142857142857143,
          0.7142857142857143,
          0.75,
          0.75,
          0.7857142857142857,
          0.7857142857142857,
          0.8571428571428571,
          0.8571428571428571,
          0.8928571428571429,
          0.8928571428571429,
          0.9285714285714286,
          0.9285714285714286,
          1,
          1,
          1,
          1,
          1,
          1,
          1,
          1,
          1,
          1,
          1,
          1,
          1,
          1,
          1,
          1
         ],
         "yaxis": "y"
        }
       ],
       "layout": {
        "height": 500,
        "legend": {
         "tracegroupgap": 0
        },
        "template": {
         "data": {
          "bar": [
           {
            "error_x": {
             "color": "#2a3f5f"
            },
            "error_y": {
             "color": "#2a3f5f"
            },
            "marker": {
             "line": {
              "color": "#E5ECF6",
              "width": 0.5
             },
             "pattern": {
              "fillmode": "overlay",
              "size": 10,
              "solidity": 0.2
             }
            },
            "type": "bar"
           }
          ],
          "barpolar": [
           {
            "marker": {
             "line": {
              "color": "#E5ECF6",
              "width": 0.5
             },
             "pattern": {
              "fillmode": "overlay",
              "size": 10,
              "solidity": 0.2
             }
            },
            "type": "barpolar"
           }
          ],
          "carpet": [
           {
            "aaxis": {
             "endlinecolor": "#2a3f5f",
             "gridcolor": "white",
             "linecolor": "white",
             "minorgridcolor": "white",
             "startlinecolor": "#2a3f5f"
            },
            "baxis": {
             "endlinecolor": "#2a3f5f",
             "gridcolor": "white",
             "linecolor": "white",
             "minorgridcolor": "white",
             "startlinecolor": "#2a3f5f"
            },
            "type": "carpet"
           }
          ],
          "choropleth": [
           {
            "colorbar": {
             "outlinewidth": 0,
             "ticks": ""
            },
            "type": "choropleth"
           }
          ],
          "contour": [
           {
            "colorbar": {
             "outlinewidth": 0,
             "ticks": ""
            },
            "colorscale": [
             [
              0,
              "#0d0887"
             ],
             [
              0.1111111111111111,
              "#46039f"
             ],
             [
              0.2222222222222222,
              "#7201a8"
             ],
             [
              0.3333333333333333,
              "#9c179e"
             ],
             [
              0.4444444444444444,
              "#bd3786"
             ],
             [
              0.5555555555555556,
              "#d8576b"
             ],
             [
              0.6666666666666666,
              "#ed7953"
             ],
             [
              0.7777777777777778,
              "#fb9f3a"
             ],
             [
              0.8888888888888888,
              "#fdca26"
             ],
             [
              1,
              "#f0f921"
             ]
            ],
            "type": "contour"
           }
          ],
          "contourcarpet": [
           {
            "colorbar": {
             "outlinewidth": 0,
             "ticks": ""
            },
            "type": "contourcarpet"
           }
          ],
          "heatmap": [
           {
            "colorbar": {
             "outlinewidth": 0,
             "ticks": ""
            },
            "colorscale": [
             [
              0,
              "#0d0887"
             ],
             [
              0.1111111111111111,
              "#46039f"
             ],
             [
              0.2222222222222222,
              "#7201a8"
             ],
             [
              0.3333333333333333,
              "#9c179e"
             ],
             [
              0.4444444444444444,
              "#bd3786"
             ],
             [
              0.5555555555555556,
              "#d8576b"
             ],
             [
              0.6666666666666666,
              "#ed7953"
             ],
             [
              0.7777777777777778,
              "#fb9f3a"
             ],
             [
              0.8888888888888888,
              "#fdca26"
             ],
             [
              1,
              "#f0f921"
             ]
            ],
            "type": "heatmap"
           }
          ],
          "heatmapgl": [
           {
            "colorbar": {
             "outlinewidth": 0,
             "ticks": ""
            },
            "colorscale": [
             [
              0,
              "#0d0887"
             ],
             [
              0.1111111111111111,
              "#46039f"
             ],
             [
              0.2222222222222222,
              "#7201a8"
             ],
             [
              0.3333333333333333,
              "#9c179e"
             ],
             [
              0.4444444444444444,
              "#bd3786"
             ],
             [
              0.5555555555555556,
              "#d8576b"
             ],
             [
              0.6666666666666666,
              "#ed7953"
             ],
             [
              0.7777777777777778,
              "#fb9f3a"
             ],
             [
              0.8888888888888888,
              "#fdca26"
             ],
             [
              1,
              "#f0f921"
             ]
            ],
            "type": "heatmapgl"
           }
          ],
          "histogram": [
           {
            "marker": {
             "pattern": {
              "fillmode": "overlay",
              "size": 10,
              "solidity": 0.2
             }
            },
            "type": "histogram"
           }
          ],
          "histogram2d": [
           {
            "colorbar": {
             "outlinewidth": 0,
             "ticks": ""
            },
            "colorscale": [
             [
              0,
              "#0d0887"
             ],
             [
              0.1111111111111111,
              "#46039f"
             ],
             [
              0.2222222222222222,
              "#7201a8"
             ],
             [
              0.3333333333333333,
              "#9c179e"
             ],
             [
              0.4444444444444444,
              "#bd3786"
             ],
             [
              0.5555555555555556,
              "#d8576b"
             ],
             [
              0.6666666666666666,
              "#ed7953"
             ],
             [
              0.7777777777777778,
              "#fb9f3a"
             ],
             [
              0.8888888888888888,
              "#fdca26"
             ],
             [
              1,
              "#f0f921"
             ]
            ],
            "type": "histogram2d"
           }
          ],
          "histogram2dcontour": [
           {
            "colorbar": {
             "outlinewidth": 0,
             "ticks": ""
            },
            "colorscale": [
             [
              0,
              "#0d0887"
             ],
             [
              0.1111111111111111,
              "#46039f"
             ],
             [
              0.2222222222222222,
              "#7201a8"
             ],
             [
              0.3333333333333333,
              "#9c179e"
             ],
             [
              0.4444444444444444,
              "#bd3786"
             ],
             [
              0.5555555555555556,
              "#d8576b"
             ],
             [
              0.6666666666666666,
              "#ed7953"
             ],
             [
              0.7777777777777778,
              "#fb9f3a"
             ],
             [
              0.8888888888888888,
              "#fdca26"
             ],
             [
              1,
              "#f0f921"
             ]
            ],
            "type": "histogram2dcontour"
           }
          ],
          "mesh3d": [
           {
            "colorbar": {
             "outlinewidth": 0,
             "ticks": ""
            },
            "type": "mesh3d"
           }
          ],
          "parcoords": [
           {
            "line": {
             "colorbar": {
              "outlinewidth": 0,
              "ticks": ""
             }
            },
            "type": "parcoords"
           }
          ],
          "pie": [
           {
            "automargin": true,
            "type": "pie"
           }
          ],
          "scatter": [
           {
            "fillpattern": {
             "fillmode": "overlay",
             "size": 10,
             "solidity": 0.2
            },
            "type": "scatter"
           }
          ],
          "scatter3d": [
           {
            "line": {
             "colorbar": {
              "outlinewidth": 0,
              "ticks": ""
             }
            },
            "marker": {
             "colorbar": {
              "outlinewidth": 0,
              "ticks": ""
             }
            },
            "type": "scatter3d"
           }
          ],
          "scattercarpet": [
           {
            "marker": {
             "colorbar": {
              "outlinewidth": 0,
              "ticks": ""
             }
            },
            "type": "scattercarpet"
           }
          ],
          "scattergeo": [
           {
            "marker": {
             "colorbar": {
              "outlinewidth": 0,
              "ticks": ""
             }
            },
            "type": "scattergeo"
           }
          ],
          "scattergl": [
           {
            "marker": {
             "colorbar": {
              "outlinewidth": 0,
              "ticks": ""
             }
            },
            "type": "scattergl"
           }
          ],
          "scattermapbox": [
           {
            "marker": {
             "colorbar": {
              "outlinewidth": 0,
              "ticks": ""
             }
            },
            "type": "scattermapbox"
           }
          ],
          "scatterpolar": [
           {
            "marker": {
             "colorbar": {
              "outlinewidth": 0,
              "ticks": ""
             }
            },
            "type": "scatterpolar"
           }
          ],
          "scatterpolargl": [
           {
            "marker": {
             "colorbar": {
              "outlinewidth": 0,
              "ticks": ""
             }
            },
            "type": "scatterpolargl"
           }
          ],
          "scatterternary": [
           {
            "marker": {
             "colorbar": {
              "outlinewidth": 0,
              "ticks": ""
             }
            },
            "type": "scatterternary"
           }
          ],
          "surface": [
           {
            "colorbar": {
             "outlinewidth": 0,
             "ticks": ""
            },
            "colorscale": [
             [
              0,
              "#0d0887"
             ],
             [
              0.1111111111111111,
              "#46039f"
             ],
             [
              0.2222222222222222,
              "#7201a8"
             ],
             [
              0.3333333333333333,
              "#9c179e"
             ],
             [
              0.4444444444444444,
              "#bd3786"
             ],
             [
              0.5555555555555556,
              "#d8576b"
             ],
             [
              0.6666666666666666,
              "#ed7953"
             ],
             [
              0.7777777777777778,
              "#fb9f3a"
             ],
             [
              0.8888888888888888,
              "#fdca26"
             ],
             [
              1,
              "#f0f921"
             ]
            ],
            "type": "surface"
           }
          ],
          "table": [
           {
            "cells": {
             "fill": {
              "color": "#EBF0F8"
             },
             "line": {
              "color": "white"
             }
            },
            "header": {
             "fill": {
              "color": "#C8D4E3"
             },
             "line": {
              "color": "white"
             }
            },
            "type": "table"
           }
          ]
         },
         "layout": {
          "annotationdefaults": {
           "arrowcolor": "#2a3f5f",
           "arrowhead": 0,
           "arrowwidth": 1
          },
          "autotypenumbers": "strict",
          "coloraxis": {
           "colorbar": {
            "outlinewidth": 0,
            "ticks": ""
           }
          },
          "colorscale": {
           "diverging": [
            [
             0,
             "#8e0152"
            ],
            [
             0.1,
             "#c51b7d"
            ],
            [
             0.2,
             "#de77ae"
            ],
            [
             0.3,
             "#f1b6da"
            ],
            [
             0.4,
             "#fde0ef"
            ],
            [
             0.5,
             "#f7f7f7"
            ],
            [
             0.6,
             "#e6f5d0"
            ],
            [
             0.7,
             "#b8e186"
            ],
            [
             0.8,
             "#7fbc41"
            ],
            [
             0.9,
             "#4d9221"
            ],
            [
             1,
             "#276419"
            ]
           ],
           "sequential": [
            [
             0,
             "#0d0887"
            ],
            [
             0.1111111111111111,
             "#46039f"
            ],
            [
             0.2222222222222222,
             "#7201a8"
            ],
            [
             0.3333333333333333,
             "#9c179e"
            ],
            [
             0.4444444444444444,
             "#bd3786"
            ],
            [
             0.5555555555555556,
             "#d8576b"
            ],
            [
             0.6666666666666666,
             "#ed7953"
            ],
            [
             0.7777777777777778,
             "#fb9f3a"
            ],
            [
             0.8888888888888888,
             "#fdca26"
            ],
            [
             1,
             "#f0f921"
            ]
           ],
           "sequentialminus": [
            [
             0,
             "#0d0887"
            ],
            [
             0.1111111111111111,
             "#46039f"
            ],
            [
             0.2222222222222222,
             "#7201a8"
            ],
            [
             0.3333333333333333,
             "#9c179e"
            ],
            [
             0.4444444444444444,
             "#bd3786"
            ],
            [
             0.5555555555555556,
             "#d8576b"
            ],
            [
             0.6666666666666666,
             "#ed7953"
            ],
            [
             0.7777777777777778,
             "#fb9f3a"
            ],
            [
             0.8888888888888888,
             "#fdca26"
            ],
            [
             1,
             "#f0f921"
            ]
           ]
          },
          "colorway": [
           "#636efa",
           "#EF553B",
           "#00cc96",
           "#ab63fa",
           "#FFA15A",
           "#19d3f3",
           "#FF6692",
           "#B6E880",
           "#FF97FF",
           "#FECB52"
          ],
          "font": {
           "color": "#2a3f5f"
          },
          "geo": {
           "bgcolor": "white",
           "lakecolor": "white",
           "landcolor": "#E5ECF6",
           "showlakes": true,
           "showland": true,
           "subunitcolor": "white"
          },
          "hoverlabel": {
           "align": "left"
          },
          "hovermode": "closest",
          "mapbox": {
           "style": "light"
          },
          "paper_bgcolor": "white",
          "plot_bgcolor": "#E5ECF6",
          "polar": {
           "angularaxis": {
            "gridcolor": "white",
            "linecolor": "white",
            "ticks": ""
           },
           "bgcolor": "#E5ECF6",
           "radialaxis": {
            "gridcolor": "white",
            "linecolor": "white",
            "ticks": ""
           }
          },
          "scene": {
           "xaxis": {
            "backgroundcolor": "#E5ECF6",
            "gridcolor": "white",
            "gridwidth": 2,
            "linecolor": "white",
            "showbackground": true,
            "ticks": "",
            "zerolinecolor": "white"
           },
           "yaxis": {
            "backgroundcolor": "#E5ECF6",
            "gridcolor": "white",
            "gridwidth": 2,
            "linecolor": "white",
            "showbackground": true,
            "ticks": "",
            "zerolinecolor": "white"
           },
           "zaxis": {
            "backgroundcolor": "#E5ECF6",
            "gridcolor": "white",
            "gridwidth": 2,
            "linecolor": "white",
            "showbackground": true,
            "ticks": "",
            "zerolinecolor": "white"
           }
          },
          "shapedefaults": {
           "line": {
            "color": "#2a3f5f"
           }
          },
          "ternary": {
           "aaxis": {
            "gridcolor": "white",
            "linecolor": "white",
            "ticks": ""
           },
           "baxis": {
            "gridcolor": "white",
            "linecolor": "white",
            "ticks": ""
           },
           "bgcolor": "#E5ECF6",
           "caxis": {
            "gridcolor": "white",
            "linecolor": "white",
            "ticks": ""
           }
          },
          "title": {
           "x": 0.05
          },
          "xaxis": {
           "automargin": true,
           "gridcolor": "white",
           "linecolor": "white",
           "ticks": "",
           "title": {
            "standoff": 15
           },
           "zerolinecolor": "white",
           "zerolinewidth": 2
          },
          "yaxis": {
           "automargin": true,
           "gridcolor": "white",
           "linecolor": "white",
           "ticks": "",
           "title": {
            "standoff": 15
           },
           "zerolinecolor": "white",
           "zerolinewidth": 2
          }
         }
        },
        "title": {
         "text": "ROC Curve (AUC=0.9499)"
        },
        "width": 700,
        "xaxis": {
         "anchor": "y",
         "domain": [
          0,
          1
         ],
         "title": {
          "text": "False Positive Rate"
         }
        },
        "yaxis": {
         "anchor": "x",
         "domain": [
          0,
          1
         ],
         "title": {
          "text": "True Positive Rate"
         }
        }
       }
      }
     },
     "metadata": {},
     "output_type": "display_data"
    }
   ],
   "source": [
    "# Train with xgboost\n",
    "from xgboost import XGBClassifier\n",
    "xgb = XGBClassifier(n_estimators=20, max_depth=8, random_state=0, max_delta_step=1,scale_pos_weight=20)\n",
    "xgb.fit(X_train, y_train)\n",
    "\n",
    "print('Train')\n",
    "evaluate(xgb, X_train, y_train)\n",
    "\n",
    "print('Validation')\n",
    "evaluate(xgb, X_val, y_val, plot_roc_rurve=True)"
   ]
  },
  {
   "cell_type": "code",
   "execution_count": 47,
   "metadata": {},
   "outputs": [
    {
     "name": "stdout",
     "output_type": "stream",
     "text": [
      "Fitting 3 folds for each of 972 candidates, totalling 2916 fits\n",
      "Best parameters found:  {'gamma': 0.5, 'learning_rate': 0.1, 'max_delta_step': None, 'max_depth': 16, 'min_child_weight': 1, 'n_estimators': 100, 'scale_pos_weight': 20}\n",
      "              precision    recall  f1-score   support\n",
      "\n",
      "           0       0.93      0.94      0.93       139\n",
      "           1       0.67      0.64      0.65        28\n",
      "\n",
      "    accuracy                           0.89       167\n",
      "   macro avg       0.80      0.79      0.79       167\n",
      "weighted avg       0.88      0.89      0.89       167\n",
      "\n",
      "Accuracy: 0.8862275449101796\n",
      "Precision 0.6666666666666666\n",
      "Recall 0.6428571428571429\n",
      "F1 score 0.6545454545454545\n"
     ]
    },
    {
     "data": {
      "text/html": [
       "<div>\n",
       "<style scoped>\n",
       "    .dataframe tbody tr th:only-of-type {\n",
       "        vertical-align: middle;\n",
       "    }\n",
       "\n",
       "    .dataframe tbody tr th {\n",
       "        vertical-align: top;\n",
       "    }\n",
       "\n",
       "    .dataframe thead th {\n",
       "        text-align: right;\n",
       "    }\n",
       "</style>\n",
       "<table border=\"1\" class=\"dataframe\">\n",
       "  <thead>\n",
       "    <tr style=\"text-align: right;\">\n",
       "      <th>Truth</th>\n",
       "      <th>0</th>\n",
       "      <th>1</th>\n",
       "    </tr>\n",
       "    <tr>\n",
       "      <th>Predicted</th>\n",
       "      <th></th>\n",
       "      <th></th>\n",
       "    </tr>\n",
       "  </thead>\n",
       "  <tbody>\n",
       "    <tr>\n",
       "      <th>0</th>\n",
       "      <td>130</td>\n",
       "      <td>9</td>\n",
       "    </tr>\n",
       "    <tr>\n",
       "      <th>1</th>\n",
       "      <td>10</td>\n",
       "      <td>18</td>\n",
       "    </tr>\n",
       "  </tbody>\n",
       "</table>\n",
       "</div>"
      ],
      "text/plain": [
       "Truth        0   1\n",
       "Predicted         \n",
       "0          130   9\n",
       "1           10  18"
      ]
     },
     "metadata": {},
     "output_type": "display_data"
    },
    {
     "data": {
      "application/vnd.plotly.v1+json": {
       "config": {
        "plotlyServerURL": "https://plot.ly"
       },
       "data": [
        {
         "fillpattern": {
          "shape": ""
         },
         "hovertemplate": "False Positive Rate=%{x}<br>True Positive Rate=%{y}<extra></extra>",
         "legendgroup": "",
         "line": {
          "color": "#636efa"
         },
         "marker": {
          "symbol": "circle"
         },
         "mode": "lines",
         "name": "",
         "orientation": "v",
         "showlegend": false,
         "stackgroup": "1",
         "type": "scatter",
         "x": [
          0,
          0,
          0.007194244604316547,
          0.007194244604316547,
          0.02158273381294964,
          0.02158273381294964,
          0.02877697841726619,
          0.02877697841726619,
          0.03597122302158273,
          0.03597122302158273,
          0.07194244604316546,
          0.07194244604316546,
          0.19424460431654678,
          0.19424460431654678,
          0.2014388489208633,
          0.2014388489208633,
          0.20863309352517986,
          0.20863309352517986,
          0.2805755395683453,
          0.2805755395683453,
          0.30935251798561153,
          0.30935251798561153,
          0.3381294964028777,
          0.3381294964028777,
          0.460431654676259,
          0.460431654676259,
          0.5755395683453237,
          0.5755395683453237,
          0.8201438848920863,
          0.8345323741007195,
          1
         ],
         "xaxis": "x",
         "y": [
          0,
          0.03571428571428571,
          0.03571428571428571,
          0.5,
          0.5,
          0.5357142857142857,
          0.5357142857142857,
          0.5714285714285714,
          0.5714285714285714,
          0.6428571428571429,
          0.6428571428571429,
          0.7142857142857143,
          0.7142857142857143,
          0.75,
          0.75,
          0.7857142857142857,
          0.7857142857142857,
          0.8214285714285714,
          0.8214285714285714,
          0.8571428571428571,
          0.8571428571428571,
          0.8928571428571429,
          0.8928571428571429,
          0.9285714285714286,
          0.9285714285714286,
          0.9642857142857143,
          0.9642857142857143,
          1,
          1,
          1,
          1
         ],
         "yaxis": "y"
        }
       ],
       "layout": {
        "height": 500,
        "legend": {
         "tracegroupgap": 0
        },
        "template": {
         "data": {
          "bar": [
           {
            "error_x": {
             "color": "#2a3f5f"
            },
            "error_y": {
             "color": "#2a3f5f"
            },
            "marker": {
             "line": {
              "color": "#E5ECF6",
              "width": 0.5
             },
             "pattern": {
              "fillmode": "overlay",
              "size": 10,
              "solidity": 0.2
             }
            },
            "type": "bar"
           }
          ],
          "barpolar": [
           {
            "marker": {
             "line": {
              "color": "#E5ECF6",
              "width": 0.5
             },
             "pattern": {
              "fillmode": "overlay",
              "size": 10,
              "solidity": 0.2
             }
            },
            "type": "barpolar"
           }
          ],
          "carpet": [
           {
            "aaxis": {
             "endlinecolor": "#2a3f5f",
             "gridcolor": "white",
             "linecolor": "white",
             "minorgridcolor": "white",
             "startlinecolor": "#2a3f5f"
            },
            "baxis": {
             "endlinecolor": "#2a3f5f",
             "gridcolor": "white",
             "linecolor": "white",
             "minorgridcolor": "white",
             "startlinecolor": "#2a3f5f"
            },
            "type": "carpet"
           }
          ],
          "choropleth": [
           {
            "colorbar": {
             "outlinewidth": 0,
             "ticks": ""
            },
            "type": "choropleth"
           }
          ],
          "contour": [
           {
            "colorbar": {
             "outlinewidth": 0,
             "ticks": ""
            },
            "colorscale": [
             [
              0,
              "#0d0887"
             ],
             [
              0.1111111111111111,
              "#46039f"
             ],
             [
              0.2222222222222222,
              "#7201a8"
             ],
             [
              0.3333333333333333,
              "#9c179e"
             ],
             [
              0.4444444444444444,
              "#bd3786"
             ],
             [
              0.5555555555555556,
              "#d8576b"
             ],
             [
              0.6666666666666666,
              "#ed7953"
             ],
             [
              0.7777777777777778,
              "#fb9f3a"
             ],
             [
              0.8888888888888888,
              "#fdca26"
             ],
             [
              1,
              "#f0f921"
             ]
            ],
            "type": "contour"
           }
          ],
          "contourcarpet": [
           {
            "colorbar": {
             "outlinewidth": 0,
             "ticks": ""
            },
            "type": "contourcarpet"
           }
          ],
          "heatmap": [
           {
            "colorbar": {
             "outlinewidth": 0,
             "ticks": ""
            },
            "colorscale": [
             [
              0,
              "#0d0887"
             ],
             [
              0.1111111111111111,
              "#46039f"
             ],
             [
              0.2222222222222222,
              "#7201a8"
             ],
             [
              0.3333333333333333,
              "#9c179e"
             ],
             [
              0.4444444444444444,
              "#bd3786"
             ],
             [
              0.5555555555555556,
              "#d8576b"
             ],
             [
              0.6666666666666666,
              "#ed7953"
             ],
             [
              0.7777777777777778,
              "#fb9f3a"
             ],
             [
              0.8888888888888888,
              "#fdca26"
             ],
             [
              1,
              "#f0f921"
             ]
            ],
            "type": "heatmap"
           }
          ],
          "heatmapgl": [
           {
            "colorbar": {
             "outlinewidth": 0,
             "ticks": ""
            },
            "colorscale": [
             [
              0,
              "#0d0887"
             ],
             [
              0.1111111111111111,
              "#46039f"
             ],
             [
              0.2222222222222222,
              "#7201a8"
             ],
             [
              0.3333333333333333,
              "#9c179e"
             ],
             [
              0.4444444444444444,
              "#bd3786"
             ],
             [
              0.5555555555555556,
              "#d8576b"
             ],
             [
              0.6666666666666666,
              "#ed7953"
             ],
             [
              0.7777777777777778,
              "#fb9f3a"
             ],
             [
              0.8888888888888888,
              "#fdca26"
             ],
             [
              1,
              "#f0f921"
             ]
            ],
            "type": "heatmapgl"
           }
          ],
          "histogram": [
           {
            "marker": {
             "pattern": {
              "fillmode": "overlay",
              "size": 10,
              "solidity": 0.2
             }
            },
            "type": "histogram"
           }
          ],
          "histogram2d": [
           {
            "colorbar": {
             "outlinewidth": 0,
             "ticks": ""
            },
            "colorscale": [
             [
              0,
              "#0d0887"
             ],
             [
              0.1111111111111111,
              "#46039f"
             ],
             [
              0.2222222222222222,
              "#7201a8"
             ],
             [
              0.3333333333333333,
              "#9c179e"
             ],
             [
              0.4444444444444444,
              "#bd3786"
             ],
             [
              0.5555555555555556,
              "#d8576b"
             ],
             [
              0.6666666666666666,
              "#ed7953"
             ],
             [
              0.7777777777777778,
              "#fb9f3a"
             ],
             [
              0.8888888888888888,
              "#fdca26"
             ],
             [
              1,
              "#f0f921"
             ]
            ],
            "type": "histogram2d"
           }
          ],
          "histogram2dcontour": [
           {
            "colorbar": {
             "outlinewidth": 0,
             "ticks": ""
            },
            "colorscale": [
             [
              0,
              "#0d0887"
             ],
             [
              0.1111111111111111,
              "#46039f"
             ],
             [
              0.2222222222222222,
              "#7201a8"
             ],
             [
              0.3333333333333333,
              "#9c179e"
             ],
             [
              0.4444444444444444,
              "#bd3786"
             ],
             [
              0.5555555555555556,
              "#d8576b"
             ],
             [
              0.6666666666666666,
              "#ed7953"
             ],
             [
              0.7777777777777778,
              "#fb9f3a"
             ],
             [
              0.8888888888888888,
              "#fdca26"
             ],
             [
              1,
              "#f0f921"
             ]
            ],
            "type": "histogram2dcontour"
           }
          ],
          "mesh3d": [
           {
            "colorbar": {
             "outlinewidth": 0,
             "ticks": ""
            },
            "type": "mesh3d"
           }
          ],
          "parcoords": [
           {
            "line": {
             "colorbar": {
              "outlinewidth": 0,
              "ticks": ""
             }
            },
            "type": "parcoords"
           }
          ],
          "pie": [
           {
            "automargin": true,
            "type": "pie"
           }
          ],
          "scatter": [
           {
            "fillpattern": {
             "fillmode": "overlay",
             "size": 10,
             "solidity": 0.2
            },
            "type": "scatter"
           }
          ],
          "scatter3d": [
           {
            "line": {
             "colorbar": {
              "outlinewidth": 0,
              "ticks": ""
             }
            },
            "marker": {
             "colorbar": {
              "outlinewidth": 0,
              "ticks": ""
             }
            },
            "type": "scatter3d"
           }
          ],
          "scattercarpet": [
           {
            "marker": {
             "colorbar": {
              "outlinewidth": 0,
              "ticks": ""
             }
            },
            "type": "scattercarpet"
           }
          ],
          "scattergeo": [
           {
            "marker": {
             "colorbar": {
              "outlinewidth": 0,
              "ticks": ""
             }
            },
            "type": "scattergeo"
           }
          ],
          "scattergl": [
           {
            "marker": {
             "colorbar": {
              "outlinewidth": 0,
              "ticks": ""
             }
            },
            "type": "scattergl"
           }
          ],
          "scattermapbox": [
           {
            "marker": {
             "colorbar": {
              "outlinewidth": 0,
              "ticks": ""
             }
            },
            "type": "scattermapbox"
           }
          ],
          "scatterpolar": [
           {
            "marker": {
             "colorbar": {
              "outlinewidth": 0,
              "ticks": ""
             }
            },
            "type": "scatterpolar"
           }
          ],
          "scatterpolargl": [
           {
            "marker": {
             "colorbar": {
              "outlinewidth": 0,
              "ticks": ""
             }
            },
            "type": "scatterpolargl"
           }
          ],
          "scatterternary": [
           {
            "marker": {
             "colorbar": {
              "outlinewidth": 0,
              "ticks": ""
             }
            },
            "type": "scatterternary"
           }
          ],
          "surface": [
           {
            "colorbar": {
             "outlinewidth": 0,
             "ticks": ""
            },
            "colorscale": [
             [
              0,
              "#0d0887"
             ],
             [
              0.1111111111111111,
              "#46039f"
             ],
             [
              0.2222222222222222,
              "#7201a8"
             ],
             [
              0.3333333333333333,
              "#9c179e"
             ],
             [
              0.4444444444444444,
              "#bd3786"
             ],
             [
              0.5555555555555556,
              "#d8576b"
             ],
             [
              0.6666666666666666,
              "#ed7953"
             ],
             [
              0.7777777777777778,
              "#fb9f3a"
             ],
             [
              0.8888888888888888,
              "#fdca26"
             ],
             [
              1,
              "#f0f921"
             ]
            ],
            "type": "surface"
           }
          ],
          "table": [
           {
            "cells": {
             "fill": {
              "color": "#EBF0F8"
             },
             "line": {
              "color": "white"
             }
            },
            "header": {
             "fill": {
              "color": "#C8D4E3"
             },
             "line": {
              "color": "white"
             }
            },
            "type": "table"
           }
          ]
         },
         "layout": {
          "annotationdefaults": {
           "arrowcolor": "#2a3f5f",
           "arrowhead": 0,
           "arrowwidth": 1
          },
          "autotypenumbers": "strict",
          "coloraxis": {
           "colorbar": {
            "outlinewidth": 0,
            "ticks": ""
           }
          },
          "colorscale": {
           "diverging": [
            [
             0,
             "#8e0152"
            ],
            [
             0.1,
             "#c51b7d"
            ],
            [
             0.2,
             "#de77ae"
            ],
            [
             0.3,
             "#f1b6da"
            ],
            [
             0.4,
             "#fde0ef"
            ],
            [
             0.5,
             "#f7f7f7"
            ],
            [
             0.6,
             "#e6f5d0"
            ],
            [
             0.7,
             "#b8e186"
            ],
            [
             0.8,
             "#7fbc41"
            ],
            [
             0.9,
             "#4d9221"
            ],
            [
             1,
             "#276419"
            ]
           ],
           "sequential": [
            [
             0,
             "#0d0887"
            ],
            [
             0.1111111111111111,
             "#46039f"
            ],
            [
             0.2222222222222222,
             "#7201a8"
            ],
            [
             0.3333333333333333,
             "#9c179e"
            ],
            [
             0.4444444444444444,
             "#bd3786"
            ],
            [
             0.5555555555555556,
             "#d8576b"
            ],
            [
             0.6666666666666666,
             "#ed7953"
            ],
            [
             0.7777777777777778,
             "#fb9f3a"
            ],
            [
             0.8888888888888888,
             "#fdca26"
            ],
            [
             1,
             "#f0f921"
            ]
           ],
           "sequentialminus": [
            [
             0,
             "#0d0887"
            ],
            [
             0.1111111111111111,
             "#46039f"
            ],
            [
             0.2222222222222222,
             "#7201a8"
            ],
            [
             0.3333333333333333,
             "#9c179e"
            ],
            [
             0.4444444444444444,
             "#bd3786"
            ],
            [
             0.5555555555555556,
             "#d8576b"
            ],
            [
             0.6666666666666666,
             "#ed7953"
            ],
            [
             0.7777777777777778,
             "#fb9f3a"
            ],
            [
             0.8888888888888888,
             "#fdca26"
            ],
            [
             1,
             "#f0f921"
            ]
           ]
          },
          "colorway": [
           "#636efa",
           "#EF553B",
           "#00cc96",
           "#ab63fa",
           "#FFA15A",
           "#19d3f3",
           "#FF6692",
           "#B6E880",
           "#FF97FF",
           "#FECB52"
          ],
          "font": {
           "color": "#2a3f5f"
          },
          "geo": {
           "bgcolor": "white",
           "lakecolor": "white",
           "landcolor": "#E5ECF6",
           "showlakes": true,
           "showland": true,
           "subunitcolor": "white"
          },
          "hoverlabel": {
           "align": "left"
          },
          "hovermode": "closest",
          "mapbox": {
           "style": "light"
          },
          "paper_bgcolor": "white",
          "plot_bgcolor": "#E5ECF6",
          "polar": {
           "angularaxis": {
            "gridcolor": "white",
            "linecolor": "white",
            "ticks": ""
           },
           "bgcolor": "#E5ECF6",
           "radialaxis": {
            "gridcolor": "white",
            "linecolor": "white",
            "ticks": ""
           }
          },
          "scene": {
           "xaxis": {
            "backgroundcolor": "#E5ECF6",
            "gridcolor": "white",
            "gridwidth": 2,
            "linecolor": "white",
            "showbackground": true,
            "ticks": "",
            "zerolinecolor": "white"
           },
           "yaxis": {
            "backgroundcolor": "#E5ECF6",
            "gridcolor": "white",
            "gridwidth": 2,
            "linecolor": "white",
            "showbackground": true,
            "ticks": "",
            "zerolinecolor": "white"
           },
           "zaxis": {
            "backgroundcolor": "#E5ECF6",
            "gridcolor": "white",
            "gridwidth": 2,
            "linecolor": "white",
            "showbackground": true,
            "ticks": "",
            "zerolinecolor": "white"
           }
          },
          "shapedefaults": {
           "line": {
            "color": "#2a3f5f"
           }
          },
          "ternary": {
           "aaxis": {
            "gridcolor": "white",
            "linecolor": "white",
            "ticks": ""
           },
           "baxis": {
            "gridcolor": "white",
            "linecolor": "white",
            "ticks": ""
           },
           "bgcolor": "#E5ECF6",
           "caxis": {
            "gridcolor": "white",
            "linecolor": "white",
            "ticks": ""
           }
          },
          "title": {
           "x": 0.05
          },
          "xaxis": {
           "automargin": true,
           "gridcolor": "white",
           "linecolor": "white",
           "ticks": "",
           "title": {
            "standoff": 15
           },
           "zerolinecolor": "white",
           "zerolinewidth": 2
          },
          "yaxis": {
           "automargin": true,
           "gridcolor": "white",
           "linecolor": "white",
           "ticks": "",
           "title": {
            "standoff": 15
           },
           "zerolinecolor": "white",
           "zerolinewidth": 2
          }
         }
        },
        "title": {
         "text": "ROC Curve (AUC=0.8954)"
        },
        "width": 700,
        "xaxis": {
         "anchor": "y",
         "domain": [
          0,
          1
         ],
         "title": {
          "text": "False Positive Rate"
         }
        },
        "yaxis": {
         "anchor": "x",
         "domain": [
          0,
          1
         ],
         "title": {
          "text": "True Positive Rate"
         }
        }
       }
      }
     },
     "metadata": {},
     "output_type": "display_data"
    }
   ],
   "source": [
    "# Cross val for hp tuning\n",
    "from sklearn.model_selection import GridSearchCV, train_test_split\n",
    "from sklearn.metrics import classification_report\n",
    "from joblib import parallel_backend\n",
    "\n",
    "xgb = XGBClassifier(random_state=0)\n",
    "\n",
    "# Define the parameter grid\n",
    "param_grid = {\n",
    "    'n_estimators': [20, 100, 200],\n",
    "    'learning_rate': [0.1, 0.5, 1],\n",
    "    'max_depth': [4, 8, 16],\n",
    "    'min_child_weight': [1, 5, 10],\n",
    "    'max_delta_step': [1, None],\n",
    "    'gamma': [0, 0.1, 0.5],\n",
    "    # 'subsample': [0.8, 1.0],\n",
    "    # 'colsample_bytree': [0.8, 1.0],\n",
    "    'scale_pos_weight': [1,20],  # Based on class imbalance ratio\n",
    "    \n",
    "}\n",
    "\n",
    "# Perform GridSearchCV\n",
    "grid_search = GridSearchCV(estimator=xgb, param_grid=param_grid, scoring='f1', cv=3, verbose=10, n_jobs=-1)\n",
    "with parallel_backend('multiprocessing'):\n",
    "    grid_search.fit(X_train, y_train)\n",
    "\n",
    "# Print the best parameters and evaluate\n",
    "print(\"Best parameters found: \", grid_search.best_params_)\n",
    "\n",
    "# Evaluate the model on the test set\n",
    "best_model = grid_search.best_estimator_\n",
    "y_pred_val = best_model.predict(X_val)\n",
    "print(classification_report(y_val, y_pred_val))\n",
    "evaluate(best_model, X_val, y_val, plot_roc_rurve=True)\n"
   ]
  },
  {
   "cell_type": "code",
   "execution_count": 21,
   "metadata": {},
   "outputs": [],
   "source": [
    "# # Explore incorrect predictions\n",
    "\n",
    "# y_pred_val = xgb.predict(X_val)\n",
    "# incorrect_rows_indices = X_val[y_pred_val != y_val].index\n",
    "\n",
    "# incorrect_y_pred = xgb.predict(X)\n",
    "# incorrect_preds = df.iloc[incorrect_rows_indices].copy()\n",
    "# incorrect_preds['y_pred'] = incorrect_y_pred[incorrect_rows_indices]\n",
    "\n",
    "# assert all(incorrect_preds['y_pred'] != incorrect_preds['is_red_day']), 'y_pred should be different from is_red_day'\n",
    "# incorrect_preds"
   ]
  },
  {
   "cell_type": "code",
   "execution_count": 38,
   "metadata": {},
   "outputs": [
    {
     "data": {
      "text/html": [
       "<div>\n",
       "<style scoped>\n",
       "    .dataframe tbody tr th:only-of-type {\n",
       "        vertical-align: middle;\n",
       "    }\n",
       "\n",
       "    .dataframe tbody tr th {\n",
       "        vertical-align: top;\n",
       "    }\n",
       "\n",
       "    .dataframe thead th {\n",
       "        text-align: right;\n",
       "    }\n",
       "</style>\n",
       "<table border=\"1\" class=\"dataframe\">\n",
       "  <thead>\n",
       "    <tr style=\"text-align: right;\">\n",
       "      <th></th>\n",
       "      <th>AAAAMMJJ</th>\n",
       "      <th>TN_BORDEAUX</th>\n",
       "      <th>TN_LILLE</th>\n",
       "      <th>TN_LYON</th>\n",
       "      <th>TN_MARSEILLE</th>\n",
       "      <th>TN_NANTES</th>\n",
       "      <th>TN_NICE</th>\n",
       "      <th>TN_PARIS</th>\n",
       "      <th>TN_STRASBOURG</th>\n",
       "      <th>TN_TOULOUSE</th>\n",
       "      <th>...</th>\n",
       "      <th>RR_MARSEILLE</th>\n",
       "      <th>RR_NANTES</th>\n",
       "      <th>RR_NICE</th>\n",
       "      <th>RR_PARIS</th>\n",
       "      <th>RR_STRASBOURG</th>\n",
       "      <th>RR_TOULOUSE</th>\n",
       "      <th>is_red_day</th>\n",
       "      <th>is_week_day</th>\n",
       "      <th>elapsed_red_days</th>\n",
       "      <th>y_pred</th>\n",
       "    </tr>\n",
       "  </thead>\n",
       "  <tbody>\n",
       "    <tr>\n",
       "      <th>82</th>\n",
       "      <td>20170324</td>\n",
       "      <td>3.0</td>\n",
       "      <td>6.4</td>\n",
       "      <td>6.0</td>\n",
       "      <td>10.8</td>\n",
       "      <td>2.4</td>\n",
       "      <td>11.3</td>\n",
       "      <td>7.8</td>\n",
       "      <td>6.9</td>\n",
       "      <td>3.0</td>\n",
       "      <td>...</td>\n",
       "      <td>0.2</td>\n",
       "      <td>0.2</td>\n",
       "      <td>4.6</td>\n",
       "      <td>3.6</td>\n",
       "      <td>0.0</td>\n",
       "      <td>12.7</td>\n",
       "      <td>1</td>\n",
       "      <td>True</td>\n",
       "      <td>19</td>\n",
       "      <td>0</td>\n",
       "    </tr>\n",
       "    <tr>\n",
       "      <th>332</th>\n",
       "      <td>20171129</td>\n",
       "      <td>1.9</td>\n",
       "      <td>0.5</td>\n",
       "      <td>2.1</td>\n",
       "      <td>4.0</td>\n",
       "      <td>-1.7</td>\n",
       "      <td>6.6</td>\n",
       "      <td>1.9</td>\n",
       "      <td>1.0</td>\n",
       "      <td>3.9</td>\n",
       "      <td>...</td>\n",
       "      <td>0.0</td>\n",
       "      <td>0.2</td>\n",
       "      <td>0.0</td>\n",
       "      <td>1.0</td>\n",
       "      <td>0.4</td>\n",
       "      <td>0.0</td>\n",
       "      <td>1</td>\n",
       "      <td>True</td>\n",
       "      <td>22</td>\n",
       "      <td>0</td>\n",
       "    </tr>\n",
       "    <tr>\n",
       "      <th>345</th>\n",
       "      <td>20171212</td>\n",
       "      <td>0.4</td>\n",
       "      <td>0.2</td>\n",
       "      <td>2.2</td>\n",
       "      <td>3.6</td>\n",
       "      <td>-2.0</td>\n",
       "      <td>6.1</td>\n",
       "      <td>1.8</td>\n",
       "      <td>1.5</td>\n",
       "      <td>4.4</td>\n",
       "      <td>...</td>\n",
       "      <td>0.0</td>\n",
       "      <td>3.0</td>\n",
       "      <td>0.0</td>\n",
       "      <td>0.0</td>\n",
       "      <td>0.0</td>\n",
       "      <td>0.0</td>\n",
       "      <td>1</td>\n",
       "      <td>True</td>\n",
       "      <td>25</td>\n",
       "      <td>0</td>\n",
       "    </tr>\n",
       "    <tr>\n",
       "      <th>407</th>\n",
       "      <td>20180212</td>\n",
       "      <td>-0.5</td>\n",
       "      <td>0.1</td>\n",
       "      <td>0.5</td>\n",
       "      <td>3.7</td>\n",
       "      <td>-2.4</td>\n",
       "      <td>4.2</td>\n",
       "      <td>0.7</td>\n",
       "      <td>-0.7</td>\n",
       "      <td>4.0</td>\n",
       "      <td>...</td>\n",
       "      <td>0.0</td>\n",
       "      <td>0.6</td>\n",
       "      <td>6.1</td>\n",
       "      <td>1.0</td>\n",
       "      <td>0.0</td>\n",
       "      <td>0.0</td>\n",
       "      <td>1</td>\n",
       "      <td>True</td>\n",
       "      <td>6</td>\n",
       "      <td>0</td>\n",
       "    </tr>\n",
       "    <tr>\n",
       "      <th>690</th>\n",
       "      <td>20181122</td>\n",
       "      <td>5.9</td>\n",
       "      <td>0.1</td>\n",
       "      <td>1.4</td>\n",
       "      <td>8.2</td>\n",
       "      <td>1.3</td>\n",
       "      <td>9.9</td>\n",
       "      <td>1.3</td>\n",
       "      <td>-0.6</td>\n",
       "      <td>5.0</td>\n",
       "      <td>...</td>\n",
       "      <td>2.0</td>\n",
       "      <td>2.2</td>\n",
       "      <td>5.0</td>\n",
       "      <td>0.4</td>\n",
       "      <td>0.0</td>\n",
       "      <td>0.0</td>\n",
       "      <td>1</td>\n",
       "      <td>True</td>\n",
       "      <td>16</td>\n",
       "      <td>0</td>\n",
       "    </tr>\n",
       "    <tr>\n",
       "      <th>786</th>\n",
       "      <td>20190226</td>\n",
       "      <td>4.2</td>\n",
       "      <td>2.6</td>\n",
       "      <td>1.9</td>\n",
       "      <td>6.8</td>\n",
       "      <td>2.8</td>\n",
       "      <td>9.9</td>\n",
       "      <td>6.8</td>\n",
       "      <td>-0.2</td>\n",
       "      <td>2.6</td>\n",
       "      <td>...</td>\n",
       "      <td>0.0</td>\n",
       "      <td>0.0</td>\n",
       "      <td>0.0</td>\n",
       "      <td>0.0</td>\n",
       "      <td>0.0</td>\n",
       "      <td>0.0</td>\n",
       "      <td>1</td>\n",
       "      <td>True</td>\n",
       "      <td>9</td>\n",
       "      <td>0</td>\n",
       "    </tr>\n",
       "    <tr>\n",
       "      <th>810</th>\n",
       "      <td>20190322</td>\n",
       "      <td>2.9</td>\n",
       "      <td>5.7</td>\n",
       "      <td>1.9</td>\n",
       "      <td>4.9</td>\n",
       "      <td>4.7</td>\n",
       "      <td>10.0</td>\n",
       "      <td>6.7</td>\n",
       "      <td>0.0</td>\n",
       "      <td>1.6</td>\n",
       "      <td>...</td>\n",
       "      <td>0.0</td>\n",
       "      <td>0.0</td>\n",
       "      <td>0.0</td>\n",
       "      <td>0.0</td>\n",
       "      <td>0.0</td>\n",
       "      <td>0.0</td>\n",
       "      <td>1</td>\n",
       "      <td>True</td>\n",
       "      <td>15</td>\n",
       "      <td>0</td>\n",
       "    </tr>\n",
       "    <tr>\n",
       "      <th>815</th>\n",
       "      <td>20190327</td>\n",
       "      <td>3.6</td>\n",
       "      <td>6.8</td>\n",
       "      <td>1.5</td>\n",
       "      <td>2.8</td>\n",
       "      <td>1.2</td>\n",
       "      <td>7.6</td>\n",
       "      <td>5.6</td>\n",
       "      <td>1.5</td>\n",
       "      <td>1.8</td>\n",
       "      <td>...</td>\n",
       "      <td>0.0</td>\n",
       "      <td>0.0</td>\n",
       "      <td>0.0</td>\n",
       "      <td>0.0</td>\n",
       "      <td>0.0</td>\n",
       "      <td>0.0</td>\n",
       "      <td>1</td>\n",
       "      <td>True</td>\n",
       "      <td>17</td>\n",
       "      <td>0</td>\n",
       "    </tr>\n",
       "    <tr>\n",
       "      <th>816</th>\n",
       "      <td>20190328</td>\n",
       "      <td>4.4</td>\n",
       "      <td>8.1</td>\n",
       "      <td>2.7</td>\n",
       "      <td>2.8</td>\n",
       "      <td>3.2</td>\n",
       "      <td>8.4</td>\n",
       "      <td>7.1</td>\n",
       "      <td>1.1</td>\n",
       "      <td>2.1</td>\n",
       "      <td>...</td>\n",
       "      <td>0.0</td>\n",
       "      <td>0.0</td>\n",
       "      <td>0.0</td>\n",
       "      <td>0.0</td>\n",
       "      <td>0.0</td>\n",
       "      <td>0.0</td>\n",
       "      <td>1</td>\n",
       "      <td>True</td>\n",
       "      <td>18</td>\n",
       "      <td>0</td>\n",
       "    </tr>\n",
       "    <tr>\n",
       "      <th>1114</th>\n",
       "      <td>20200120</td>\n",
       "      <td>2.3</td>\n",
       "      <td>-1.7</td>\n",
       "      <td>-1.7</td>\n",
       "      <td>4.3</td>\n",
       "      <td>2.6</td>\n",
       "      <td>7.8</td>\n",
       "      <td>2.3</td>\n",
       "      <td>1.6</td>\n",
       "      <td>-2.7</td>\n",
       "      <td>...</td>\n",
       "      <td>0.4</td>\n",
       "      <td>0.0</td>\n",
       "      <td>0.0</td>\n",
       "      <td>0.0</td>\n",
       "      <td>0.0</td>\n",
       "      <td>0.0</td>\n",
       "      <td>1</td>\n",
       "      <td>True</td>\n",
       "      <td>1</td>\n",
       "      <td>0</td>\n",
       "    </tr>\n",
       "    <tr>\n",
       "      <th>1152</th>\n",
       "      <td>20200227</td>\n",
       "      <td>7.3</td>\n",
       "      <td>0.7</td>\n",
       "      <td>2.3</td>\n",
       "      <td>2.4</td>\n",
       "      <td>6.3</td>\n",
       "      <td>5.5</td>\n",
       "      <td>3.6</td>\n",
       "      <td>1.0</td>\n",
       "      <td>5.4</td>\n",
       "      <td>...</td>\n",
       "      <td>4.0</td>\n",
       "      <td>1.6</td>\n",
       "      <td>0.0</td>\n",
       "      <td>8.1</td>\n",
       "      <td>6.7</td>\n",
       "      <td>13.5</td>\n",
       "      <td>1</td>\n",
       "      <td>True</td>\n",
       "      <td>7</td>\n",
       "      <td>0</td>\n",
       "    </tr>\n",
       "    <tr>\n",
       "      <th>1156</th>\n",
       "      <td>20200302</td>\n",
       "      <td>7.7</td>\n",
       "      <td>4.1</td>\n",
       "      <td>7.0</td>\n",
       "      <td>6.7</td>\n",
       "      <td>6.1</td>\n",
       "      <td>8.7</td>\n",
       "      <td>4.2</td>\n",
       "      <td>2.0</td>\n",
       "      <td>7.3</td>\n",
       "      <td>...</td>\n",
       "      <td>5.2</td>\n",
       "      <td>3.2</td>\n",
       "      <td>43.2</td>\n",
       "      <td>4.8</td>\n",
       "      <td>10.5</td>\n",
       "      <td>5.0</td>\n",
       "      <td>1</td>\n",
       "      <td>True</td>\n",
       "      <td>8</td>\n",
       "      <td>0</td>\n",
       "    </tr>\n",
       "    <tr>\n",
       "      <th>1157</th>\n",
       "      <td>20200303</td>\n",
       "      <td>5.2</td>\n",
       "      <td>1.0</td>\n",
       "      <td>3.4</td>\n",
       "      <td>4.5</td>\n",
       "      <td>4.5</td>\n",
       "      <td>6.7</td>\n",
       "      <td>2.1</td>\n",
       "      <td>2.9</td>\n",
       "      <td>4.9</td>\n",
       "      <td>...</td>\n",
       "      <td>0.0</td>\n",
       "      <td>3.8</td>\n",
       "      <td>0.0</td>\n",
       "      <td>0.0</td>\n",
       "      <td>1.6</td>\n",
       "      <td>21.4</td>\n",
       "      <td>1</td>\n",
       "      <td>True</td>\n",
       "      <td>9</td>\n",
       "      <td>0</td>\n",
       "    </tr>\n",
       "    <tr>\n",
       "      <th>1430</th>\n",
       "      <td>20201201</td>\n",
       "      <td>1.0</td>\n",
       "      <td>6.3</td>\n",
       "      <td>-0.6</td>\n",
       "      <td>0.6</td>\n",
       "      <td>2.8</td>\n",
       "      <td>9.5</td>\n",
       "      <td>4.3</td>\n",
       "      <td>-3.6</td>\n",
       "      <td>3.0</td>\n",
       "      <td>...</td>\n",
       "      <td>0.0</td>\n",
       "      <td>0.2</td>\n",
       "      <td>0.6</td>\n",
       "      <td>0.0</td>\n",
       "      <td>2.6</td>\n",
       "      <td>4.2</td>\n",
       "      <td>1</td>\n",
       "      <td>True</td>\n",
       "      <td>14</td>\n",
       "      <td>0</td>\n",
       "    </tr>\n",
       "    <tr>\n",
       "      <th>1438</th>\n",
       "      <td>20201209</td>\n",
       "      <td>2.1</td>\n",
       "      <td>0.3</td>\n",
       "      <td>1.4</td>\n",
       "      <td>1.5</td>\n",
       "      <td>-2.2</td>\n",
       "      <td>5.4</td>\n",
       "      <td>-0.6</td>\n",
       "      <td>1.0</td>\n",
       "      <td>2.8</td>\n",
       "      <td>...</td>\n",
       "      <td>0.0</td>\n",
       "      <td>11.3</td>\n",
       "      <td>0.0</td>\n",
       "      <td>0.0</td>\n",
       "      <td>0.0</td>\n",
       "      <td>6.4</td>\n",
       "      <td>1</td>\n",
       "      <td>True</td>\n",
       "      <td>20</td>\n",
       "      <td>0</td>\n",
       "    </tr>\n",
       "    <tr>\n",
       "      <th>1536</th>\n",
       "      <td>20210317</td>\n",
       "      <td>8.9</td>\n",
       "      <td>5.6</td>\n",
       "      <td>3.6</td>\n",
       "      <td>5.9</td>\n",
       "      <td>6.1</td>\n",
       "      <td>7.4</td>\n",
       "      <td>6.1</td>\n",
       "      <td>3.4</td>\n",
       "      <td>9.1</td>\n",
       "      <td>...</td>\n",
       "      <td>0.0</td>\n",
       "      <td>0.0</td>\n",
       "      <td>2.0</td>\n",
       "      <td>3.0</td>\n",
       "      <td>4.4</td>\n",
       "      <td>0.0</td>\n",
       "      <td>1</td>\n",
       "      <td>True</td>\n",
       "      <td>10</td>\n",
       "      <td>0</td>\n",
       "    </tr>\n",
       "    <tr>\n",
       "      <th>1537</th>\n",
       "      <td>20210318</td>\n",
       "      <td>3.9</td>\n",
       "      <td>3.8</td>\n",
       "      <td>2.0</td>\n",
       "      <td>4.0</td>\n",
       "      <td>1.0</td>\n",
       "      <td>7.5</td>\n",
       "      <td>4.9</td>\n",
       "      <td>-0.1</td>\n",
       "      <td>3.3</td>\n",
       "      <td>...</td>\n",
       "      <td>0.8</td>\n",
       "      <td>1.4</td>\n",
       "      <td>0.2</td>\n",
       "      <td>3.0</td>\n",
       "      <td>0.8</td>\n",
       "      <td>0.4</td>\n",
       "      <td>1</td>\n",
       "      <td>True</td>\n",
       "      <td>11</td>\n",
       "      <td>0</td>\n",
       "    </tr>\n",
       "    <tr>\n",
       "      <th>1886</th>\n",
       "      <td>20220302</td>\n",
       "      <td>8.5</td>\n",
       "      <td>5.5</td>\n",
       "      <td>5.7</td>\n",
       "      <td>2.1</td>\n",
       "      <td>9.1</td>\n",
       "      <td>4.4</td>\n",
       "      <td>6.4</td>\n",
       "      <td>-3.6</td>\n",
       "      <td>8.0</td>\n",
       "      <td>...</td>\n",
       "      <td>0.2</td>\n",
       "      <td>0.2</td>\n",
       "      <td>0.0</td>\n",
       "      <td>0.0</td>\n",
       "      <td>0.0</td>\n",
       "      <td>13.9</td>\n",
       "      <td>1</td>\n",
       "      <td>True</td>\n",
       "      <td>12</td>\n",
       "      <td>0</td>\n",
       "    </tr>\n",
       "    <tr>\n",
       "      <th>1899</th>\n",
       "      <td>20220315</td>\n",
       "      <td>13.0</td>\n",
       "      <td>6.6</td>\n",
       "      <td>10.1</td>\n",
       "      <td>11.9</td>\n",
       "      <td>10.1</td>\n",
       "      <td>13.2</td>\n",
       "      <td>9.5</td>\n",
       "      <td>4.7</td>\n",
       "      <td>12.4</td>\n",
       "      <td>...</td>\n",
       "      <td>0.0</td>\n",
       "      <td>0.2</td>\n",
       "      <td>0.0</td>\n",
       "      <td>3.6</td>\n",
       "      <td>0.2</td>\n",
       "      <td>0.0</td>\n",
       "      <td>1</td>\n",
       "      <td>True</td>\n",
       "      <td>16</td>\n",
       "      <td>0</td>\n",
       "    </tr>\n",
       "    <tr>\n",
       "      <th>1906</th>\n",
       "      <td>20220322</td>\n",
       "      <td>7.6</td>\n",
       "      <td>6.1</td>\n",
       "      <td>4.5</td>\n",
       "      <td>3.1</td>\n",
       "      <td>6.8</td>\n",
       "      <td>5.8</td>\n",
       "      <td>8.0</td>\n",
       "      <td>1.6</td>\n",
       "      <td>9.2</td>\n",
       "      <td>...</td>\n",
       "      <td>0.0</td>\n",
       "      <td>0.0</td>\n",
       "      <td>0.0</td>\n",
       "      <td>0.0</td>\n",
       "      <td>0.0</td>\n",
       "      <td>0.0</td>\n",
       "      <td>1</td>\n",
       "      <td>True</td>\n",
       "      <td>17</td>\n",
       "      <td>0</td>\n",
       "    </tr>\n",
       "    <tr>\n",
       "      <th>1907</th>\n",
       "      <td>20220323</td>\n",
       "      <td>6.3</td>\n",
       "      <td>4.8</td>\n",
       "      <td>3.7</td>\n",
       "      <td>2.0</td>\n",
       "      <td>5.4</td>\n",
       "      <td>6.7</td>\n",
       "      <td>5.1</td>\n",
       "      <td>-0.5</td>\n",
       "      <td>8.8</td>\n",
       "      <td>...</td>\n",
       "      <td>0.0</td>\n",
       "      <td>0.0</td>\n",
       "      <td>0.0</td>\n",
       "      <td>0.0</td>\n",
       "      <td>0.0</td>\n",
       "      <td>0.0</td>\n",
       "      <td>1</td>\n",
       "      <td>True</td>\n",
       "      <td>18</td>\n",
       "      <td>0</td>\n",
       "    </tr>\n",
       "    <tr>\n",
       "      <th>1913</th>\n",
       "      <td>20220329</td>\n",
       "      <td>10.3</td>\n",
       "      <td>7.3</td>\n",
       "      <td>11.8</td>\n",
       "      <td>8.5</td>\n",
       "      <td>8.7</td>\n",
       "      <td>11.0</td>\n",
       "      <td>12.6</td>\n",
       "      <td>5.4</td>\n",
       "      <td>9.0</td>\n",
       "      <td>...</td>\n",
       "      <td>0.0</td>\n",
       "      <td>0.2</td>\n",
       "      <td>0.0</td>\n",
       "      <td>0.8</td>\n",
       "      <td>4.6</td>\n",
       "      <td>1.4</td>\n",
       "      <td>1</td>\n",
       "      <td>True</td>\n",
       "      <td>19</td>\n",
       "      <td>0</td>\n",
       "    </tr>\n",
       "    <tr>\n",
       "      <th>1914</th>\n",
       "      <td>20220330</td>\n",
       "      <td>9.0</td>\n",
       "      <td>7.6</td>\n",
       "      <td>9.2</td>\n",
       "      <td>9.9</td>\n",
       "      <td>9.8</td>\n",
       "      <td>11.5</td>\n",
       "      <td>10.2</td>\n",
       "      <td>9.0</td>\n",
       "      <td>9.9</td>\n",
       "      <td>...</td>\n",
       "      <td>8.0</td>\n",
       "      <td>0.8</td>\n",
       "      <td>8.5</td>\n",
       "      <td>7.6</td>\n",
       "      <td>3.6</td>\n",
       "      <td>2.8</td>\n",
       "      <td>1</td>\n",
       "      <td>True</td>\n",
       "      <td>20</td>\n",
       "      <td>0</td>\n",
       "    </tr>\n",
       "    <tr>\n",
       "      <th>1915</th>\n",
       "      <td>20220331</td>\n",
       "      <td>7.9</td>\n",
       "      <td>2.3</td>\n",
       "      <td>8.8</td>\n",
       "      <td>7.2</td>\n",
       "      <td>3.6</td>\n",
       "      <td>10.5</td>\n",
       "      <td>3.6</td>\n",
       "      <td>6.5</td>\n",
       "      <td>8.7</td>\n",
       "      <td>...</td>\n",
       "      <td>0.0</td>\n",
       "      <td>5.9</td>\n",
       "      <td>0.0</td>\n",
       "      <td>2.0</td>\n",
       "      <td>3.8</td>\n",
       "      <td>6.0</td>\n",
       "      <td>1</td>\n",
       "      <td>True</td>\n",
       "      <td>21</td>\n",
       "      <td>0</td>\n",
       "    </tr>\n",
       "    <tr>\n",
       "      <th>2167</th>\n",
       "      <td>20221208</td>\n",
       "      <td>2.3</td>\n",
       "      <td>0.0</td>\n",
       "      <td>-0.4</td>\n",
       "      <td>-0.3</td>\n",
       "      <td>-1.3</td>\n",
       "      <td>7.3</td>\n",
       "      <td>2.1</td>\n",
       "      <td>-3.1</td>\n",
       "      <td>3.2</td>\n",
       "      <td>...</td>\n",
       "      <td>18.0</td>\n",
       "      <td>0.0</td>\n",
       "      <td>8.8</td>\n",
       "      <td>0.0</td>\n",
       "      <td>0.0</td>\n",
       "      <td>0.4</td>\n",
       "      <td>1</td>\n",
       "      <td>True</td>\n",
       "      <td>22</td>\n",
       "      <td>0</td>\n",
       "    </tr>\n",
       "    <tr>\n",
       "      <th>2228</th>\n",
       "      <td>20230207</td>\n",
       "      <td>0.0</td>\n",
       "      <td>-1.4</td>\n",
       "      <td>-0.3</td>\n",
       "      <td>3.6</td>\n",
       "      <td>0.4</td>\n",
       "      <td>5.3</td>\n",
       "      <td>0.6</td>\n",
       "      <td>-2.2</td>\n",
       "      <td>-0.9</td>\n",
       "      <td>...</td>\n",
       "      <td>0.0</td>\n",
       "      <td>0.0</td>\n",
       "      <td>0.0</td>\n",
       "      <td>0.0</td>\n",
       "      <td>0.0</td>\n",
       "      <td>0.6</td>\n",
       "      <td>1</td>\n",
       "      <td>True</td>\n",
       "      <td>7</td>\n",
       "      <td>0</td>\n",
       "    </tr>\n",
       "    <tr>\n",
       "      <th>2252</th>\n",
       "      <td>20230303</td>\n",
       "      <td>3.9</td>\n",
       "      <td>0.7</td>\n",
       "      <td>-1.9</td>\n",
       "      <td>1.8</td>\n",
       "      <td>-0.1</td>\n",
       "      <td>6.3</td>\n",
       "      <td>1.7</td>\n",
       "      <td>-4.1</td>\n",
       "      <td>2.0</td>\n",
       "      <td>...</td>\n",
       "      <td>0.0</td>\n",
       "      <td>0.2</td>\n",
       "      <td>0.0</td>\n",
       "      <td>0.0</td>\n",
       "      <td>0.0</td>\n",
       "      <td>0.0</td>\n",
       "      <td>1</td>\n",
       "      <td>True</td>\n",
       "      <td>13</td>\n",
       "      <td>0</td>\n",
       "    </tr>\n",
       "    <tr>\n",
       "      <th>2523</th>\n",
       "      <td>20231129</td>\n",
       "      <td>-0.2</td>\n",
       "      <td>1.5</td>\n",
       "      <td>-2.1</td>\n",
       "      <td>0.1</td>\n",
       "      <td>0.6</td>\n",
       "      <td>6.6</td>\n",
       "      <td>2.8</td>\n",
       "      <td>-1.8</td>\n",
       "      <td>4.4</td>\n",
       "      <td>...</td>\n",
       "      <td>1.8</td>\n",
       "      <td>0.4</td>\n",
       "      <td>4.2</td>\n",
       "      <td>0.0</td>\n",
       "      <td>0.0</td>\n",
       "      <td>0.2</td>\n",
       "      <td>1</td>\n",
       "      <td>True</td>\n",
       "      <td>19</td>\n",
       "      <td>0</td>\n",
       "    </tr>\n",
       "  </tbody>\n",
       "</table>\n",
       "<p>28 rows × 68 columns</p>\n",
       "</div>"
      ],
      "text/plain": [
       "      AAAAMMJJ  TN_BORDEAUX  TN_LILLE  TN_LYON  TN_MARSEILLE  TN_NANTES  \\\n",
       "82    20170324          3.0       6.4      6.0          10.8        2.4   \n",
       "332   20171129          1.9       0.5      2.1           4.0       -1.7   \n",
       "345   20171212          0.4       0.2      2.2           3.6       -2.0   \n",
       "407   20180212         -0.5       0.1      0.5           3.7       -2.4   \n",
       "690   20181122          5.9       0.1      1.4           8.2        1.3   \n",
       "786   20190226          4.2       2.6      1.9           6.8        2.8   \n",
       "810   20190322          2.9       5.7      1.9           4.9        4.7   \n",
       "815   20190327          3.6       6.8      1.5           2.8        1.2   \n",
       "816   20190328          4.4       8.1      2.7           2.8        3.2   \n",
       "1114  20200120          2.3      -1.7     -1.7           4.3        2.6   \n",
       "1152  20200227          7.3       0.7      2.3           2.4        6.3   \n",
       "1156  20200302          7.7       4.1      7.0           6.7        6.1   \n",
       "1157  20200303          5.2       1.0      3.4           4.5        4.5   \n",
       "1430  20201201          1.0       6.3     -0.6           0.6        2.8   \n",
       "1438  20201209          2.1       0.3      1.4           1.5       -2.2   \n",
       "1536  20210317          8.9       5.6      3.6           5.9        6.1   \n",
       "1537  20210318          3.9       3.8      2.0           4.0        1.0   \n",
       "1886  20220302          8.5       5.5      5.7           2.1        9.1   \n",
       "1899  20220315         13.0       6.6     10.1          11.9       10.1   \n",
       "1906  20220322          7.6       6.1      4.5           3.1        6.8   \n",
       "1907  20220323          6.3       4.8      3.7           2.0        5.4   \n",
       "1913  20220329         10.3       7.3     11.8           8.5        8.7   \n",
       "1914  20220330          9.0       7.6      9.2           9.9        9.8   \n",
       "1915  20220331          7.9       2.3      8.8           7.2        3.6   \n",
       "2167  20221208          2.3       0.0     -0.4          -0.3       -1.3   \n",
       "2228  20230207          0.0      -1.4     -0.3           3.6        0.4   \n",
       "2252  20230303          3.9       0.7     -1.9           1.8       -0.1   \n",
       "2523  20231129         -0.2       1.5     -2.1           0.1        0.6   \n",
       "\n",
       "      TN_NICE  TN_PARIS  TN_STRASBOURG  TN_TOULOUSE  ...  RR_MARSEILLE  \\\n",
       "82       11.3       7.8            6.9          3.0  ...           0.2   \n",
       "332       6.6       1.9            1.0          3.9  ...           0.0   \n",
       "345       6.1       1.8            1.5          4.4  ...           0.0   \n",
       "407       4.2       0.7           -0.7          4.0  ...           0.0   \n",
       "690       9.9       1.3           -0.6          5.0  ...           2.0   \n",
       "786       9.9       6.8           -0.2          2.6  ...           0.0   \n",
       "810      10.0       6.7            0.0          1.6  ...           0.0   \n",
       "815       7.6       5.6            1.5          1.8  ...           0.0   \n",
       "816       8.4       7.1            1.1          2.1  ...           0.0   \n",
       "1114      7.8       2.3            1.6         -2.7  ...           0.4   \n",
       "1152      5.5       3.6            1.0          5.4  ...           4.0   \n",
       "1156      8.7       4.2            2.0          7.3  ...           5.2   \n",
       "1157      6.7       2.1            2.9          4.9  ...           0.0   \n",
       "1430      9.5       4.3           -3.6          3.0  ...           0.0   \n",
       "1438      5.4      -0.6            1.0          2.8  ...           0.0   \n",
       "1536      7.4       6.1            3.4          9.1  ...           0.0   \n",
       "1537      7.5       4.9           -0.1          3.3  ...           0.8   \n",
       "1886      4.4       6.4           -3.6          8.0  ...           0.2   \n",
       "1899     13.2       9.5            4.7         12.4  ...           0.0   \n",
       "1906      5.8       8.0            1.6          9.2  ...           0.0   \n",
       "1907      6.7       5.1           -0.5          8.8  ...           0.0   \n",
       "1913     11.0      12.6            5.4          9.0  ...           0.0   \n",
       "1914     11.5      10.2            9.0          9.9  ...           8.0   \n",
       "1915     10.5       3.6            6.5          8.7  ...           0.0   \n",
       "2167      7.3       2.1           -3.1          3.2  ...          18.0   \n",
       "2228      5.3       0.6           -2.2         -0.9  ...           0.0   \n",
       "2252      6.3       1.7           -4.1          2.0  ...           0.0   \n",
       "2523      6.6       2.8           -1.8          4.4  ...           1.8   \n",
       "\n",
       "      RR_NANTES  RR_NICE  RR_PARIS  RR_STRASBOURG  RR_TOULOUSE  is_red_day  \\\n",
       "82          0.2      4.6       3.6            0.0         12.7           1   \n",
       "332         0.2      0.0       1.0            0.4          0.0           1   \n",
       "345         3.0      0.0       0.0            0.0          0.0           1   \n",
       "407         0.6      6.1       1.0            0.0          0.0           1   \n",
       "690         2.2      5.0       0.4            0.0          0.0           1   \n",
       "786         0.0      0.0       0.0            0.0          0.0           1   \n",
       "810         0.0      0.0       0.0            0.0          0.0           1   \n",
       "815         0.0      0.0       0.0            0.0          0.0           1   \n",
       "816         0.0      0.0       0.0            0.0          0.0           1   \n",
       "1114        0.0      0.0       0.0            0.0          0.0           1   \n",
       "1152        1.6      0.0       8.1            6.7         13.5           1   \n",
       "1156        3.2     43.2       4.8           10.5          5.0           1   \n",
       "1157        3.8      0.0       0.0            1.6         21.4           1   \n",
       "1430        0.2      0.6       0.0            2.6          4.2           1   \n",
       "1438       11.3      0.0       0.0            0.0          6.4           1   \n",
       "1536        0.0      2.0       3.0            4.4          0.0           1   \n",
       "1537        1.4      0.2       3.0            0.8          0.4           1   \n",
       "1886        0.2      0.0       0.0            0.0         13.9           1   \n",
       "1899        0.2      0.0       3.6            0.2          0.0           1   \n",
       "1906        0.0      0.0       0.0            0.0          0.0           1   \n",
       "1907        0.0      0.0       0.0            0.0          0.0           1   \n",
       "1913        0.2      0.0       0.8            4.6          1.4           1   \n",
       "1914        0.8      8.5       7.6            3.6          2.8           1   \n",
       "1915        5.9      0.0       2.0            3.8          6.0           1   \n",
       "2167        0.0      8.8       0.0            0.0          0.4           1   \n",
       "2228        0.0      0.0       0.0            0.0          0.6           1   \n",
       "2252        0.2      0.0       0.0            0.0          0.0           1   \n",
       "2523        0.4      4.2       0.0            0.0          0.2           1   \n",
       "\n",
       "      is_week_day  elapsed_red_days  y_pred  \n",
       "82           True                19       0  \n",
       "332          True                22       0  \n",
       "345          True                25       0  \n",
       "407          True                 6       0  \n",
       "690          True                16       0  \n",
       "786          True                 9       0  \n",
       "810          True                15       0  \n",
       "815          True                17       0  \n",
       "816          True                18       0  \n",
       "1114         True                 1       0  \n",
       "1152         True                 7       0  \n",
       "1156         True                 8       0  \n",
       "1157         True                 9       0  \n",
       "1430         True                14       0  \n",
       "1438         True                20       0  \n",
       "1536         True                10       0  \n",
       "1537         True                11       0  \n",
       "1886         True                12       0  \n",
       "1899         True                16       0  \n",
       "1906         True                17       0  \n",
       "1907         True                18       0  \n",
       "1913         True                19       0  \n",
       "1914         True                20       0  \n",
       "1915         True                21       0  \n",
       "2167         True                22       0  \n",
       "2228         True                 7       0  \n",
       "2252         True                13       0  \n",
       "2523         True                19       0  \n",
       "\n",
       "[28 rows x 68 columns]"
      ]
     },
     "execution_count": 38,
     "metadata": {},
     "output_type": "execute_result"
    }
   ],
   "source": [
    "# Explore incorrect predictions\n",
    "\n",
    "y_pred_val = best_model.predict(X_val)\n",
    "incorrect_rows_indices = X_val[y_pred_val != y_val].index\n",
    "\n",
    "y_pred = best_model.predict(X)\n",
    "df_copy = df.copy()\n",
    "df_copy['y_pred'] = y_pred\n",
    "\n",
    "df_copy[(df_copy['is_red_day'] == 1) & (0 == df_copy['y_pred'])] "
   ]
  },
  {
   "cell_type": "markdown",
   "metadata": {},
   "source": [
    "Notes:\n",
    "- vacances scolaires\n",
    "- Vitesse et direction du vent : Le vent peut influencer le ressenti de froid, augmentant ainsi les besoins énergétiques.\n",
    "- Historique de consommation : Intégrer un décalage temporel pour inclure la consommation des jours précédents peut être utile.\n",
    "- Prévisions de consommation : Des estimations faites par EDF ou des modèles tiers peuvent être une variable clé."
   ]
  },
  {
   "cell_type": "code",
   "execution_count": 23,
   "metadata": {},
   "outputs": [
    {
     "ename": "NameError",
     "evalue": "name 'Notes' is not defined",
     "output_type": "error",
     "traceback": [
      "\u001b[1;31m---------------------------------------------------------------------------\u001b[0m",
      "\u001b[1;31mNameError\u001b[0m                                 Traceback (most recent call last)",
      "Cell \u001b[1;32mIn[23], line 1\u001b[0m\n\u001b[1;32m----> 1\u001b[0m \u001b[43mNotes\u001b[49m\n",
      "\u001b[1;31mNameError\u001b[0m: name 'Notes' is not defined"
     ]
    }
   ],
   "source": [
    "Notes"
   ]
  }
 ],
 "metadata": {
  "kernelspec": {
   "display_name": "predictempo",
   "language": "python",
   "name": "python3"
  },
  "language_info": {
   "codemirror_mode": {
    "name": "ipython",
    "version": 3
   },
   "file_extension": ".py",
   "mimetype": "text/x-python",
   "name": "python",
   "nbconvert_exporter": "python",
   "pygments_lexer": "ipython3",
   "version": "3.11.11"
  }
 },
 "nbformat": 4,
 "nbformat_minor": 2
}
