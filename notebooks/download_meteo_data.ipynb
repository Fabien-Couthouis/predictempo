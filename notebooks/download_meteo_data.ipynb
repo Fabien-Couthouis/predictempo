{
 "cells": [
  {
   "cell_type": "code",
   "execution_count": 1,
   "metadata": {},
   "outputs": [],
   "source": [
    "from selenium import webdriver\n",
    "from selenium.webdriver.common.by import By\n",
    "from selenium.webdriver.chrome.service import Service\n",
    "from selenium.webdriver.chrome.options import Options\n",
    "from selenium.webdriver.support.ui import WebDriverWait\n",
    "from selenium.webdriver.support import expected_conditions as EC\n",
    "import time\n",
    "from selenium.common.exceptions import StaleElementReferenceException\n",
    "from tqdm.notebook import tqdm\n",
    "from bs4 import BeautifulSoup\n",
    "import os\n",
    "import requests\n",
    "\n",
    "chrome_options = Options()\n",
    "chrome_options.add_argument('--headless')\n",
    "chrome_options.add_argument('--disable-gpu')\n",
    "chrome_service = Service('D:\\chrome-win64\\chromedriver.exe')\n",
    "\n",
    "driver = webdriver.Chrome(service=chrome_service, options=chrome_options)\n"
   ]
  },
  {
   "cell_type": "code",
   "execution_count": 2,
   "metadata": {},
   "outputs": [],
   "source": [
    "url = 'https://meteo.data.gouv.fr/datasets/donnees-climatologiques-de-base-quotidiennes/'\n",
    "\n",
    "driver.get(url)\n",
    "WebDriverWait(driver, 10)\n",
    "time.sleep(3)"
   ]
  },
  {
   "cell_type": "code",
   "execution_count": 3,
   "metadata": {},
   "outputs": [],
   "source": [
    "\n",
    "def get_name_link_map_for_current_page(driver):\n",
    "    name_link = {}\n",
    "    articles = driver.find_elements(By.TAG_NAME, 'article')\n",
    "    for article in articles:\n",
    "        html = article.get_attribute('outerHTML')\n",
    "        soup = BeautifulSoup(html, 'html.parser')\n",
    "        divs = soup.find_all('div')\n",
    "        filename = divs[0].find_all('div')[1].find('h4').text\n",
    "        url =soup.find(class_='matomo_download').attrs['href']\n",
    "        name_link[filename] = url\n",
    "\n",
    "    return name_link"
   ]
  },
  {
   "cell_type": "code",
   "execution_count": 6,
   "metadata": {},
   "outputs": [],
   "source": [
    "def get_n_pages(driver):\n",
    "    all_pages = driver.find_element(By.CLASS_NAME, \"fr-pagination__list\")  \n",
    "    n_pages = int(all_pages.find_elements(By.TAG_NAME, \"li\")[-3].text)\n",
    "    return n_pages\n",
    "\n",
    "n_pages = get_n_pages(driver)"
   ]
  },
  {
   "cell_type": "code",
   "execution_count": 7,
   "metadata": {},
   "outputs": [
    {
     "data": {
      "application/vnd.jupyter.widget-view+json": {
       "model_id": "97c3ce3f98b449c99b7fa5c1ebfdc02f",
       "version_major": 2,
       "version_minor": 0
      },
      "text/plain": [
       "Pages:   0%|          | 0/141 [00:00<?, ?it/s]"
      ]
     },
     "metadata": {},
     "output_type": "display_data"
    },
    {
     "data": {
      "text/plain": [
       "638"
      ]
     },
     "execution_count": 7,
     "metadata": {},
     "output_type": "execute_result"
    }
   ],
   "source": [
    "def go_to_next_page(driver):\n",
    "    next_page = driver.find_element(By.CLASS_NAME, \"fr-pagination__link--next\")  \n",
    "    next_page.click()\n",
    "    \n",
    "def retrieve_all_name_link_maps(driver, n_pages):\n",
    "    name_links = {}\n",
    "    for current_page in tqdm(range(n_pages), desc='Pages', total=n_pages):\n",
    "        got_new_links = False\n",
    "        while not got_new_links:\n",
    "            try:\n",
    "                new_links = get_name_link_map_for_current_page(driver)\n",
    "                got_new_links = True\n",
    "            except StaleElementReferenceException:\n",
    "                time.sleep(0.2)\n",
    "\n",
    "        name_links.update(new_links)\n",
    "        go_to_next_page(driver)\n",
    "        current_page += 1\n",
    "    return name_links\n",
    "\n",
    "\n",
    "name_links = retrieve_all_name_link_maps(driver, n_pages=n_pages)\n",
    "len(name_links)"
   ]
  },
  {
   "cell_type": "code",
   "execution_count": null,
   "metadata": {},
   "outputs": [
    {
     "data": {
      "text/plain": [
       "243"
      ]
     },
     "execution_count": 12,
     "metadata": {},
     "output_type": "execute_result"
    }
   ],
   "source": [
    "def filter_links_with_suffix(links, suffix):\n",
    "    return {fname: l for fname, l in links.items() if fname.endswith(suffix)}\n",
    "\n",
    "def filter_links_metropole(links):\n",
    "    filtered = {}\n",
    "    for fname, l in links.items():\n",
    "        departement = int(fname.split('_departement_')[1].split('_')[0])\n",
    "        if departement <= 95:\n",
    "            filtered[fname] = l\n",
    "    return filtered\n",
    "\n",
    "filtered_links = filter_links_with_suffix(name_links, suffix='periode_1950-2023_RR-T-Vent')\n",
    "filtered_links |= filter_links_with_suffix(name_links, suffix='periode_2024-2025_RR-T-Vent')\n",
    "filtered_links = filter_links_metropole(filtered_links)\n",
    "\n",
    "len(filtered_links)"
   ]
  },
  {
   "cell_type": "code",
   "execution_count": 15,
   "metadata": {},
   "outputs": [
    {
     "name": "stderr",
     "output_type": "stream",
     "text": [
      "Downloading files: 100%|██████████| 243/243 [01:24<00:00,  2.86it/s]\n"
     ]
    }
   ],
   "source": [
    "def download_links(links, folder_path):\n",
    "    if not os.path.exists(folder_path):\n",
    "        os.makedirs(folder_path)\n",
    "    \n",
    "    for fname, link in tqdm(links.items(), desc='Downloading files', total=len(links)):\n",
    "        filename = os.path.join(folder_path, f'{fname}.csv.gz')\n",
    "        if os.path.exists(filename):\n",
    "            #  skip existing files\n",
    "            continue\n",
    "\n",
    "        response = requests.get(link)\n",
    "        with open(filename, 'wb') as file:\n",
    "            file.write(response.content)\n",
    "\n",
    "folder_path = '../data/rtt-vent'\n",
    "download_links(filtered_links, folder_path)"
   ]
  }
 ],
 "metadata": {
  "kernelspec": {
   "display_name": "predictempo",
   "language": "python",
   "name": "python3"
  },
  "language_info": {
   "codemirror_mode": {
    "name": "ipython",
    "version": 3
   },
   "file_extension": ".py",
   "mimetype": "text/x-python",
   "name": "python",
   "nbconvert_exporter": "python",
   "pygments_lexer": "ipython3",
   "version": "3.11.11"
  }
 },
 "nbformat": 4,
 "nbformat_minor": 2
}
